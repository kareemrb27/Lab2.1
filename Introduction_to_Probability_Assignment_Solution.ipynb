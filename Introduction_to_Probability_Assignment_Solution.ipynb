{
  "nbformat": 4,
  "nbformat_minor": 0,
  "metadata": {
    "colab": {
      "provenance": [],
      "include_colab_link": true
    },
    "kernelspec": {
      "name": "python3",
      "display_name": "Python 3"
    },
    "language_info": {
      "name": "python"
    }
  },
  "cells": [
    {
      "cell_type": "markdown",
      "metadata": {
        "id": "view-in-github",
        "colab_type": "text"
      },
      "source": [
        "<a href=\"https://colab.research.google.com/github/kareemrb27/Lab2.1/blob/master/Introduction_to_Probability_Assignment_Solution.ipynb\" target=\"_parent\"><img src=\"https://colab.research.google.com/assets/colab-badge.svg\" alt=\"Open In Colab\"/></a>"
      ]
    },
    {
      "cell_type": "markdown",
      "source": [
        "To save your progress please make a copy of this notebook and try to solve the below questions in your notebook. Try to solve them independently first, referring to the solutions only when necessary. This approach will help solidify your grasp on the material.\n",
        "\n",
        "If you find yourself needing clarification or have questions, join our Assignment Review session on Thursday. It's a great opportunity to clear up any doubts and deepen your understanding.\n",
        "\n",
        "\n",
        "### *Keep up the good work!*\n"
      ],
      "metadata": {
        "id": "2ccUEjr0E7md"
      }
    },
    {
      "cell_type": "markdown",
      "source": [
        "#Question 1\n",
        "\n",
        "---\n",
        "\n",
        "\n",
        "##Coin Toss and Betting\n",
        "\n",
        "We are given a function coin_toss that simulates a single coin toss.\n",
        "\n",
        "The function coin_trial simulates a trial of 100 coin tosses by calling the coin_toss function each time.\n",
        "\n",
        "Note that a fair coin is supposed to yield 50 heads and 50 tails. However, that is not always the case. If you toss the coin 100 times, you might get fewer or more than 50 heads.\n",
        "\n",
        "Now, what if you repeat the experiment 10, 100, 1000... 10000 times? You will observe that the average number of heads will converge close to 50.\n",
        "\n",
        "The simulate function simulates this repeating experiment. If you call simulate with n = 1, it is equivalent to 100 coin tosses. If you call it with n = 10, you repeat a trial of 100 coin tosses 10 times.\n",
        "\n",
        "There is a fascinating probability theory at play here, which you might learn in one of your upcoming classes.\n",
        "However, even without knowing the theory, one can verify this through simulation."
      ],
      "metadata": {
        "id": "x6k_00GnSjSr"
      }
    },
    {
      "cell_type": "code",
      "source": [
        "import random\n",
        "\n",
        "def coin_toss():\n",
        "    \"\"\" Simulates a single fair coin toss.\n",
        "\n",
        "    Returns:\n",
        "        int: 1 for heads, 0 for tails.\n",
        "    \"\"\"\n",
        "    if random.random() <= 0.5:\n",
        "        return 1  # Heads\n",
        "    else:\n",
        "        return 0  # Tails\n",
        "\n",
        "\n",
        "def coin_trial():\n",
        "    \"\"\" Simulates a trial of 100 coin tosses using the coin_toss function.\n",
        "\n",
        "    Returns:\n",
        "        int: Number of heads obtained (0 to 100).\n",
        "    \"\"\"\n",
        "    heads = 0\n",
        "    for i in range(100):\n",
        "        heads += coin_toss()\n",
        "    return heads\n",
        "\n",
        "\n",
        "def simulate(n):\n",
        "    # Initialize an empty list to store the results of each trial\n",
        "    trials = []\n",
        "\n",
        "    # Loop `n` times to perform `n` trials\n",
        "    for i in range(n):\n",
        "        # Call `coin_trial()` to simulate 100 coin tosses and append the result (number of heads) to `trials`\n",
        "        trials.append(coin_trial())\n",
        "\n",
        "    # Calculate the average number of heads across all trials\n",
        "    average_heads = sum(trials) / n\n",
        "\n",
        "    # Return the computed average\n",
        "    return average_heads"
      ],
      "metadata": {
        "id": "V4MTw2nASEi0"
      },
      "execution_count": null,
      "outputs": []
    },
    {
      "cell_type": "code",
      "source": [
        "simulate(1)"
      ],
      "metadata": {
        "colab": {
          "base_uri": "https://localhost:8080/"
        },
        "id": "K3LbfwacSEfr",
        "outputId": "cce75822-dd47-4ccb-f236-31782f965c03"
      },
      "execution_count": null,
      "outputs": [
        {
          "output_type": "execute_result",
          "data": {
            "text/plain": [
              "50.0"
            ]
          },
          "metadata": {},
          "execution_count": 2
        }
      ]
    },
    {
      "cell_type": "code",
      "source": [
        "simulate(10)"
      ],
      "metadata": {
        "colab": {
          "base_uri": "https://localhost:8080/"
        },
        "id": "t9_p8zcbSEc7",
        "outputId": "e65f755c-4640-48d4-a4c9-6f9796d6d5e6"
      },
      "execution_count": null,
      "outputs": [
        {
          "output_type": "execute_result",
          "data": {
            "text/plain": [
              "48.0"
            ]
          },
          "metadata": {},
          "execution_count": 3
        }
      ]
    },
    {
      "cell_type": "code",
      "source": [
        "simulate(100)"
      ],
      "metadata": {
        "colab": {
          "base_uri": "https://localhost:8080/"
        },
        "id": "3ZeVfF4iTxZa",
        "outputId": "b28b2d7e-6233-4a88-9943-1dc94d1c6210"
      },
      "execution_count": null,
      "outputs": [
        {
          "output_type": "execute_result",
          "data": {
            "text/plain": [
              "50.27"
            ]
          },
          "metadata": {},
          "execution_count": 4
        }
      ]
    },
    {
      "cell_type": "code",
      "source": [
        "simulate(1000)"
      ],
      "metadata": {
        "colab": {
          "base_uri": "https://localhost:8080/"
        },
        "id": "hfLVdWc2TzSX",
        "outputId": "59d7fe72-fdca-4227-84a0-a620a0a5f5e0"
      },
      "execution_count": null,
      "outputs": [
        {
          "output_type": "execute_result",
          "data": {
            "text/plain": [
              "50.138"
            ]
          },
          "metadata": {},
          "execution_count": 5
        }
      ]
    },
    {
      "cell_type": "code",
      "source": [
        "simulate(10000)"
      ],
      "metadata": {
        "colab": {
          "base_uri": "https://localhost:8080/"
        },
        "id": "qG1hr61rTzPY",
        "outputId": "13360e36-2b89-4e3e-b203-9a38ef5a84c8"
      },
      "execution_count": null,
      "outputs": [
        {
          "output_type": "execute_result",
          "data": {
            "text/plain": [
              "50.0455"
            ]
          },
          "metadata": {},
          "execution_count": 6
        }
      ]
    },
    {
      "cell_type": "markdown",
      "source": [
        "Try simulating this 100-coin toss 10, 100, 1000, and 10000 times. Notice whether the average number of heads you obtain is approaching close to 50. Can you intuitively explain why this phenomenon occurs?\n"
      ],
      "metadata": {
        "id": "2N6NHNaxT2zL"
      }
    },
    {
      "cell_type": "code",
      "source": [],
      "metadata": {
        "id": "P7NBQxpVTzJe"
      },
      "execution_count": null,
      "outputs": []
    },
    {
      "cell_type": "markdown",
      "source": [
        "#Question 2\n",
        "\n",
        "---\n",
        "\n",
        "\n",
        "## Betting offer\n",
        "\n",
        "Your friend suggests a fair coin game with the following rules: you will keep tossing the coin until heads comes up. For every tails that appears, you owe your friend `$10`. However, if a head comes up, your friend will pay you `$100`.\n",
        "\n",
        "The sample space for this experiment includes outcomes like {H, TH, TTH, .... TTTTTH ....}. As soon as a head appears, you stop tossing, and your friend pays you `$100`. For each tails that shows up, you need to pay your friend $10. To make a profit, it's beneficial to get a head as quickly as possible.\n",
        "\n",
        "You can use the simulation method we discussed earlier to simulate a fair coin. Now, leverage the power of simulation.\n",
        "\n",
        "Write a simulation logic and a trial logic to help you decide whether you should take this bet or not.\n",
        "\n",
        "Consider this: What if your friend offered you `$100` once a head comes up? Would you take the bet? Write a simulation function to decide."
      ],
      "metadata": {
        "id": "7IXQkuNXUGXL"
      }
    },
    {
      "cell_type": "code",
      "source": [
        "# Simulation\n",
        "\n",
        "import random\n",
        "\n",
        "def simulate(n, receive, give):\n",
        "    \"\"\"\n",
        "    Simulates the coin game where you receive a specified amount on a head\n",
        "    and pay a specified amount for each tail until a head appears.\n",
        "\n",
        "    Args:\n",
        "    - n (int): Number of simulations to run.\n",
        "    - receive (int): Amount received when a head appears.\n",
        "    - give (int): Amount paid for each tail until a head appears.\n",
        "\n",
        "    Returns:\n",
        "    - int: Total profit accumulated across all simulations.\n",
        "    \"\"\"\n",
        "    total_profit = 0  # Initialize total profit counter\n",
        "\n",
        "    # Loop to run 'n' simulations\n",
        "    for _ in range(n):\n",
        "        number_of_tails = 0  # Initialize number of tails counter\n",
        "\n",
        "        # Loop until a head appears\n",
        "        while True:\n",
        "            coin_toss = random.randint(0, 1)  # Simulate a coin toss (0 for Tail, 1 for Head)\n",
        "\n",
        "            if coin_toss == 0:  # If it's a Tail\n",
        "                number_of_tails += 1  # Increment number of tails\n",
        "            else:  # If it's a Head\n",
        "                # Calculate profit for this simulation\n",
        "                profit = receive - give * number_of_tails\n",
        "                total_profit += profit  # Accumulate total profit\n",
        "                break  # Exit the loop as we've got a Head\n",
        "\n",
        "    return total_profit  # Return total profit after all simulations"
      ],
      "metadata": {
        "id": "5n04Wxf8cSyM"
      },
      "execution_count": null,
      "outputs": []
    },
    {
      "cell_type": "code",
      "source": [
        "# Example usage:\n",
        "profit = simulate(1, 15, 10)\n",
        "print(f\"Profit after one simulation: ${profit}\")"
      ],
      "metadata": {
        "id": "sOAdxN0KWqfu",
        "colab": {
          "base_uri": "https://localhost:8080/"
        },
        "outputId": "538eb9bd-d229-47f0-e9e8-6e41c0f6696f"
      },
      "execution_count": null,
      "outputs": [
        {
          "output_type": "stream",
          "name": "stdout",
          "text": [
            "Profit after one simulation: $15\n"
          ]
        }
      ]
    },
    {
      "cell_type": "markdown",
      "source": [
        "# Question 3\n",
        "\n",
        "---\n",
        "\n",
        "\n",
        "## Dice Roll\n",
        "\n",
        "Write a Python function to simulate a casino where two dice are rolled together, and the player wins if there are two six and gets `$100`. What will be the average profit if the casino fee is 5 cents per game?"
      ],
      "metadata": {
        "id": "QFYvWrVMaaY9"
      }
    },
    {
      "cell_type": "code",
      "source": [
        "import random\n",
        "\n",
        "def simulate_casino_games(num_games, fee_per_game):\n",
        "    \"\"\"\n",
        "    Simulate a casino game where two dice are rolled together.\n",
        "    The player wins $100 if both dice show six.\n",
        "    The casino charges a fee for each game.\n",
        "\n",
        "    Parameters:\n",
        "    num_games (int): Number of games to simulate.\n",
        "    fee_per_game (float): Casino fee per game in dollars.\n",
        "\n",
        "    Returns:\n",
        "    float: The average profit per game.\n",
        "    \"\"\"\n",
        "    total_profit = 0  # Initialize total profit to zero\n",
        "    win_amount = 100  # Amount player wins if both dice show six\n",
        "\n",
        "    # Simulate the specified number of games\n",
        "    for _ in range(num_games):\n",
        "        # Roll two dice\n",
        "        die1 = random.randint(1, 6)\n",
        "        die2 = random.randint(1, 6)\n",
        "\n",
        "        # Check if both dice show six\n",
        "        if die1 == 6 and die2 == 6:\n",
        "            # Player wins, so casino loses $100 minus the fee\n",
        "            total_profit -= (win_amount - fee_per_game)\n",
        "        else:\n",
        "            # Player loses, so casino gains the fee\n",
        "            total_profit += fee_per_game\n",
        "\n",
        "    # Calculate the average profit per game\n",
        "    average_profit = total_profit / num_games\n",
        "    return average_profit"
      ],
      "metadata": {
        "id": "ZA2WGJkCWqc3"
      },
      "execution_count": null,
      "outputs": []
    },
    {
      "cell_type": "code",
      "source": [
        "# Parameters for the simulation\n",
        "num_games = 1000000  # Number of games to simulate\n",
        "fee_per_game = 0.05  # Casino fee per game in dollars"
      ],
      "metadata": {
        "id": "k93W2iTfXC6I"
      },
      "execution_count": null,
      "outputs": []
    },
    {
      "cell_type": "code",
      "source": [
        "# Running the simulation\n",
        "average_profit = simulate_casino_games(num_games, fee_per_game)"
      ],
      "metadata": {
        "id": "uLZl3WdtXQMM"
      },
      "execution_count": null,
      "outputs": []
    },
    {
      "cell_type": "code",
      "source": [
        "# Print the average profit per game\n",
        "print(f\"Average profit per game: ${average_profit:.5f}\")"
      ],
      "metadata": {
        "colab": {
          "base_uri": "https://localhost:8080/"
        },
        "id": "-MBFuuOh1NTP",
        "outputId": "d3c6aec2-34bf-4e98-8b79-2020a17ed184"
      },
      "execution_count": null,
      "outputs": [
        {
          "output_type": "stream",
          "name": "stdout",
          "text": [
            "Average profit per game: $-2.72030\n"
          ]
        }
      ]
    },
    {
      "cell_type": "markdown",
      "source": [
        "# Question 4\n",
        "\n",
        "---\n",
        "\n",
        "\n",
        "## Infinte monkey Theorem\n",
        "The infinite monkey theorem states that a monkey hitting keys at random on a typewriter keyboard for an infinite amount of time will almost surely type any given text, such as the complete works of William Shakespeare.\n",
        "\n",
        "Suppose the typewriter can only type between A-Z. Ignoring punctuation, spacing, and capitalization, write a function that calculates the probability of writing the title \"Hamlet.\"\n",
        "\n",
        "The text of Hamlet contains approximately 130,000 letters. Can you comment on the chance of the monkey typing out Hamlet by randomly hitting keys on the typewriter?\n",
        "\n",
        "\n"
      ],
      "metadata": {
        "id": "eB53ExGJbnWm"
      }
    },
    {
      "cell_type": "markdown",
      "source": [],
      "metadata": {
        "id": "VZ6_SWqVbnTn"
      }
    },
    {
      "cell_type": "code",
      "source": [
        "def monkey_typing_probability(target_text, key_space_size=26):\n",
        "    \"\"\"\n",
        "    Calculate the probability of a monkey typing a specific target text on a typewriter.\n",
        "\n",
        "    Parameters:\n",
        "    - target_text (str): The target text the monkey is trying to type.\n",
        "    - key_space_size (int): Number of possible characters on the typewriter (default is 26 for A-Z).\n",
        "\n",
        "    Returns:\n",
        "    - probability (float): Probability of typing the target text.\n",
        "    \"\"\"\n",
        "    target_length = len(target_text)\n",
        "\n",
        "    if target_length == 0:\n",
        "        return 0.0\n",
        "\n",
        "    # Probability of typing the exact target sequence once\n",
        "    probability_one_attempt = (1 / key_space_size) ** target_length\n",
        "\n",
        "    return probability_one_attempt"
      ],
      "metadata": {
        "id": "nXfdAzxQddkc"
      },
      "execution_count": null,
      "outputs": []
    },
    {
      "cell_type": "code",
      "source": [
        "# Example usage:\n",
        "target_text = \"Hamlet\"\n",
        "probability = monkey_typing_probability(target_text)\n",
        "print(f\"Probability of typing '{target_text}' on a typewriter randomly: {probability:.2e}\")"
      ],
      "metadata": {
        "colab": {
          "base_uri": "https://localhost:8080/"
        },
        "id": "LFO0lFG82M1H",
        "outputId": "efb3c968-439f-4803-8ccd-87b92d39dd3c"
      },
      "execution_count": null,
      "outputs": [
        {
          "output_type": "stream",
          "name": "stdout",
          "text": [
            "Probability of typing 'Hamlet' on a typewriter randomly: 3.24e-09\n"
          ]
        }
      ]
    },
    {
      "cell_type": "markdown",
      "source": [
        "#Question 5\n",
        "\n",
        "---\n",
        "##Birthday Paradox\n",
        "\n",
        "The birthday problem explores the likelihood that in a randomly selected group of people, there exists at least one pair who share the same birthday (day and month, but not necessarily the same year). Using simulations, calculate this probability\n",
        "\n",
        "*The problem revolves around the surprising probability that in a group of people, even with a relatively small number, there's a high chance that at least two individuals will share the same birthday. This probability is counterintuitive due to the large number of possible pairs of birthdays and is often referred to as the Birthday Paradox. The simulation approach helps estimate this probability by generating multiple random groups and checking how often at least two people share a birthday. This allows us to understand the likelihood of encountering shared birthdays in a practical and illustrative manner.*\n"
      ],
      "metadata": {
        "id": "7u2ePW53vb0n"
      }
    },
    {
      "cell_type": "code",
      "source": [
        "import random\n",
        "\n",
        "def generate_birthdays(num_people):\n",
        "    \"\"\"Generate birthdays for a group of num_people.\"\"\"\n",
        "    birthdays = []\n",
        "    for _ in range(num_people):\n",
        "        # Assume all years are non-leap years for simplicity\n",
        "        # Randomly select a day of the year (1-365)\n",
        "        birthday = random.randint(1, 365)\n",
        "        birthdays.append(birthday)\n",
        "    return birthdays\n",
        "\n",
        "def has_duplicate(birthdays):\n",
        "    \"\"\"Check if there are any duplicate birthdays in the list.\"\"\"\n",
        "    # Use a set to track seen birthdays\n",
        "    seen = set()\n",
        "    for birthday in birthdays:\n",
        "        if birthday in seen:\n",
        "            return True\n",
        "        seen.add(birthday)\n",
        "    return False\n",
        "\n",
        "def birthday_paradox_simulation(num_simulations, num_people):\n",
        "    \"\"\"Simulate the birthday paradox for num_people in num_simulations.\"\"\"\n",
        "    count_duplicates = 0\n",
        "    for _ in range(num_simulations):\n",
        "        # Generate birthdays for the current group\n",
        "        birthdays = generate_birthdays(num_people)\n",
        "\n",
        "        # Check if there's at least one duplicate birthday\n",
        "        if has_duplicate(birthdays):\n",
        "            count_duplicates += 1\n",
        "\n",
        "    # Calculate the probability based on the number of simulations with duplicates\n",
        "    probability = count_duplicates / num_simulations\n",
        "    return probability"
      ],
      "metadata": {
        "id": "IIa2k6a6v60C"
      },
      "execution_count": null,
      "outputs": []
    },
    {
      "cell_type": "code",
      "source": [
        "# Parameters for simulation\n",
        "num_simulations = 100000  # Number of simulations to run\n",
        "num_people = 23  # Number of people in each group"
      ],
      "metadata": {
        "id": "AyZFObB03Zzz"
      },
      "execution_count": null,
      "outputs": []
    },
    {
      "cell_type": "code",
      "source": [
        "# Run the simulation\n",
        "probability = birthday_paradox_simulation(num_simulations, num_people)"
      ],
      "metadata": {
        "id": "KHP_BLRa3ahg"
      },
      "execution_count": null,
      "outputs": []
    },
    {
      "cell_type": "code",
      "source": [
        "# Output the results\n",
        "print(f\"Probability that at least two people share a birthday in a group of {num_people} people: {probability:.4f}\")"
      ],
      "metadata": {
        "colab": {
          "base_uri": "https://localhost:8080/"
        },
        "id": "qVUg2tyr3e7H",
        "outputId": "fd94ad6e-3885-4bc7-df6f-864b390503c1"
      },
      "execution_count": null,
      "outputs": [
        {
          "output_type": "stream",
          "name": "stdout",
          "text": [
            "Probability that at least two people share a birthday in a group of 27 people: 0.6266\n"
          ]
        }
      ]
    },
    {
      "cell_type": "markdown",
      "source": [
        "# Question 6\n",
        "\n",
        "---\n",
        "\n",
        "What is the probability that when rolling two six-sided dice, their sum equals a specific value (e.g., 7)? Use simulations to estimate this probability.\n",
        "\n",
        "*This question asks us to use Python to simulate rolling two dice numerous times and determine how often their combined total matches a specified sum, such as 7. By running these simulations, we can estimate the likelihood (probability) of achieving this specific outcome based on random chance. This approach helps illustrate how probabilities can be calculated through practical experimentation rather than solely relying on theoretical calculations.*\n"
      ],
      "metadata": {
        "id": "d12r6vy9wDeC"
      }
    },
    {
      "cell_type": "code",
      "source": [
        "import random\n",
        "\n",
        "# Number of rolls (simulations)\n",
        "rolls = 10000\n",
        "\n",
        "# Initialize a list to count occurrences of each sum (2 to 12)\n",
        "sum_counts = [0] * 11  # There are 11 possible sums (2 to 12)\n",
        "\n",
        "# Perform the simulations\n",
        "for _ in range(rolls):\n",
        "    # Roll two dice\n",
        "    die1 = random.randint(1, 6)\n",
        "    die2 = random.randint(1, 6)\n",
        "\n",
        "    # Calculate the sum of the two dice\n",
        "    sum = die1 + die2\n",
        "\n",
        "    # Increment the count for the corresponding sum in the sum_counts list\n",
        "    sum_counts[sum - 2] += 1  # Adjust index to fit range 2 to 12 (sum values)"
      ],
      "metadata": {
        "id": "P5pXWpYNwjVd"
      },
      "execution_count": null,
      "outputs": []
    },
    {
      "cell_type": "code",
      "source": [
        "# Calculate the probability of getting a sum of 7\n",
        "prob_sum_7 = sum_counts[7 - 2] / rolls  # Adjust index to get count for sum of 7"
      ],
      "metadata": {
        "id": "9D8rRjSG4gkM"
      },
      "execution_count": null,
      "outputs": []
    },
    {
      "cell_type": "code",
      "source": [
        "# Print the estimated probability\n",
        "print(f\"Probability of getting a sum of 7 (simulated, {rolls} trials): {prob_sum_7:.4f}\")"
      ],
      "metadata": {
        "colab": {
          "base_uri": "https://localhost:8080/"
        },
        "id": "ER3Jv2rh4jK-",
        "outputId": "678423c4-1e7a-4226-af8e-c13112399a3e"
      },
      "execution_count": null,
      "outputs": [
        {
          "output_type": "stream",
          "name": "stdout",
          "text": [
            "Probability of getting a sum of 7 (simulated, 10000 trials): 0.1692\n"
          ]
        }
      ]
    }
  ]
}