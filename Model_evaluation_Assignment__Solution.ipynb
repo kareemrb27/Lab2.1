{
  "cells": [
    {
      "cell_type": "markdown",
      "metadata": {
        "id": "view-in-github",
        "colab_type": "text"
      },
      "source": [
        "<a href=\"https://colab.research.google.com/github/kareemrb27/Lab2.1/blob/master/Model_evaluation_Assignment__Solution.ipynb\" target=\"_parent\"><img src=\"https://colab.research.google.com/assets/colab-badge.svg\" alt=\"Open In Colab\"/></a>"
      ]
    },
    {
      "cell_type": "markdown",
      "id": "e1817658",
      "metadata": {
        "id": "e1817658"
      },
      "source": [
        "<h2 style=\"color: green; text-align: center; font-weight: bold;\">Post class assignment</h2>"
      ]
    },
    {
      "cell_type": "markdown",
      "source": [
        "# Introduction"
      ],
      "metadata": {
        "id": "R2bED8wpDbjl"
      },
      "id": "R2bED8wpDbjl"
    },
    {
      "cell_type": "markdown",
      "id": "c5629aa3",
      "metadata": {
        "id": "c5629aa3"
      },
      "source": [
        "#### XYZ Bank - Term Deposit Subscription Prediction\n",
        "* You are a data scientist at XYZ Bank, tasked with helping the bank increase the success rate of its term deposit campaigns. In the previous campaigns, the bank noticed that only a small fraction of customers subscribed to term deposits, and now they want to use data science to predict which customers are likely to subscribe.\n",
        "\n",
        "<center><img src=\"https://dcbtehri.co.in/wp-content/uploads/2020/05/FD1.jpg\"/></center>\n",
        "\n",
        "* You’ve been provided with a dataset that includes information about customer demographics, financial behavior, and previous campaign contact history. Your task is to evaluate different machine learning models and help the bank efficiently target potential customers for their term deposit marketing efforts."
      ]
    },
    {
      "cell_type": "markdown",
      "source": [
        "# Step 1: Import the neccessary libraries"
      ],
      "metadata": {
        "id": "3X2_Rb1pD5gO"
      },
      "id": "3X2_Rb1pD5gO"
    },
    {
      "cell_type": "code",
      "execution_count": null,
      "id": "9531e156",
      "metadata": {
        "id": "9531e156"
      },
      "outputs": [],
      "source": [
        "# Import the necessary libraries(numpy, pandas, matplotlib, seaborn)\n",
        "# Data manipulation and numerical operations\n",
        "\n",
        "import numpy as np\n",
        "import pandas as pd\n",
        "from sklearn.model_selection import train_test_split\n",
        "import matplotlib.pyplot as plt\n",
        "import seaborn as sns\n",
        "\n",
        "# Setting maximum limit of the number of columns visible\n",
        "pd.set_option('display.max_columns', 30)"
      ]
    },
    {
      "cell_type": "markdown",
      "source": [
        "# Step 2: Load the data"
      ],
      "metadata": {
        "id": "3hvU39A8Ebdo"
      },
      "id": "3hvU39A8Ebdo"
    },
    {
      "cell_type": "markdown",
      "id": "c707f440",
      "metadata": {
        "id": "c707f440"
      },
      "source": [
        "\n",
        "### The dataset contains 16 features and a target as shown below:\n",
        "1. `age`: The customer's age.\n",
        "2. `job`: The type of job the customer has.\n",
        "3. `marital`: The marital status of the customer.\n",
        "4. `education`: The customer's level of education.\n",
        "5. `default`: Whether the customer has credit in default.\n",
        "6. `balance`: The average yearly balance in euros.\n",
        "7. `housing`: Whether the customer has a housing loan.\n",
        "8. `loan`: Whether the customer has a personal loan.\n",
        "9. `contact`: The type of communication contact\n",
        "10. `day`: The last contact day of the month.\n",
        "11. `month`: The last contact month of the year.\n",
        "12. `duration`: The last contact duration in seconds.\n",
        "13. `campaign`: Number of contacts performed during this campaign.\n",
        "14. `pdays`: Number of days since the client was last contacted.\n",
        "15. `previous`: Number of contacts before this campaign.\n",
        "16. `poutcome`: Outcome of the previous marketing campaign.\n",
        "17. `y`: Whether the customer subscribed to the term deposit (yes/no).\n"
      ]
    },
    {
      "cell_type": "markdown",
      "source": [
        "### 2.1 Load the data & view it\n"
      ],
      "metadata": {
        "id": "LqcJJXn1Fzpv"
      },
      "id": "LqcJJXn1Fzpv"
    },
    {
      "cell_type": "markdown",
      "source": [
        "Hint: Use ; as the seperator."
      ],
      "metadata": {
        "id": "iLqa3tpuF9sK"
      },
      "id": "iLqa3tpuF9sK"
    },
    {
      "cell_type": "code",
      "source": [
        "# Loading the data\n",
        "# Read the csv file using a seperator \";\"\n",
        "data = pd.read_csv('bank-full.csv', sep=';')\n",
        "\n",
        "# Viewing the data\n",
        "data.head()"
      ],
      "metadata": {
        "colab": {
          "base_uri": "https://localhost:8080/",
          "height": 206
        },
        "id": "PgfKmdEHElow",
        "outputId": "b7ba36c1-c93b-4dad-e49a-2e78d3032201"
      },
      "id": "PgfKmdEHElow",
      "execution_count": null,
      "outputs": [
        {
          "output_type": "execute_result",
          "data": {
            "text/plain": [
              "   age           job  marital  education default  balance housing loan  \\\n",
              "0   58    management  married   tertiary      no     2143     yes   no   \n",
              "1   44    technician   single  secondary      no       29     yes   no   \n",
              "2   33  entrepreneur  married  secondary      no        2     yes  yes   \n",
              "3   47   blue-collar  married    unknown      no     1506     yes   no   \n",
              "4   33       unknown   single    unknown      no        1      no   no   \n",
              "\n",
              "   contact  day month  duration  campaign  pdays  previous poutcome   y  \n",
              "0  unknown    5   may       261         1     -1         0  unknown  no  \n",
              "1  unknown    5   may       151         1     -1         0  unknown  no  \n",
              "2  unknown    5   may        76         1     -1         0  unknown  no  \n",
              "3  unknown    5   may        92         1     -1         0  unknown  no  \n",
              "4  unknown    5   may       198         1     -1         0  unknown  no  "
            ],
            "text/html": [
              "\n",
              "  <div id=\"df-801340d2-4efc-4ca6-a7b8-d021fd98e7ff\" class=\"colab-df-container\">\n",
              "    <div>\n",
              "<style scoped>\n",
              "    .dataframe tbody tr th:only-of-type {\n",
              "        vertical-align: middle;\n",
              "    }\n",
              "\n",
              "    .dataframe tbody tr th {\n",
              "        vertical-align: top;\n",
              "    }\n",
              "\n",
              "    .dataframe thead th {\n",
              "        text-align: right;\n",
              "    }\n",
              "</style>\n",
              "<table border=\"1\" class=\"dataframe\">\n",
              "  <thead>\n",
              "    <tr style=\"text-align: right;\">\n",
              "      <th></th>\n",
              "      <th>age</th>\n",
              "      <th>job</th>\n",
              "      <th>marital</th>\n",
              "      <th>education</th>\n",
              "      <th>default</th>\n",
              "      <th>balance</th>\n",
              "      <th>housing</th>\n",
              "      <th>loan</th>\n",
              "      <th>contact</th>\n",
              "      <th>day</th>\n",
              "      <th>month</th>\n",
              "      <th>duration</th>\n",
              "      <th>campaign</th>\n",
              "      <th>pdays</th>\n",
              "      <th>previous</th>\n",
              "      <th>poutcome</th>\n",
              "      <th>y</th>\n",
              "    </tr>\n",
              "  </thead>\n",
              "  <tbody>\n",
              "    <tr>\n",
              "      <th>0</th>\n",
              "      <td>58</td>\n",
              "      <td>management</td>\n",
              "      <td>married</td>\n",
              "      <td>tertiary</td>\n",
              "      <td>no</td>\n",
              "      <td>2143</td>\n",
              "      <td>yes</td>\n",
              "      <td>no</td>\n",
              "      <td>unknown</td>\n",
              "      <td>5</td>\n",
              "      <td>may</td>\n",
              "      <td>261</td>\n",
              "      <td>1</td>\n",
              "      <td>-1</td>\n",
              "      <td>0</td>\n",
              "      <td>unknown</td>\n",
              "      <td>no</td>\n",
              "    </tr>\n",
              "    <tr>\n",
              "      <th>1</th>\n",
              "      <td>44</td>\n",
              "      <td>technician</td>\n",
              "      <td>single</td>\n",
              "      <td>secondary</td>\n",
              "      <td>no</td>\n",
              "      <td>29</td>\n",
              "      <td>yes</td>\n",
              "      <td>no</td>\n",
              "      <td>unknown</td>\n",
              "      <td>5</td>\n",
              "      <td>may</td>\n",
              "      <td>151</td>\n",
              "      <td>1</td>\n",
              "      <td>-1</td>\n",
              "      <td>0</td>\n",
              "      <td>unknown</td>\n",
              "      <td>no</td>\n",
              "    </tr>\n",
              "    <tr>\n",
              "      <th>2</th>\n",
              "      <td>33</td>\n",
              "      <td>entrepreneur</td>\n",
              "      <td>married</td>\n",
              "      <td>secondary</td>\n",
              "      <td>no</td>\n",
              "      <td>2</td>\n",
              "      <td>yes</td>\n",
              "      <td>yes</td>\n",
              "      <td>unknown</td>\n",
              "      <td>5</td>\n",
              "      <td>may</td>\n",
              "      <td>76</td>\n",
              "      <td>1</td>\n",
              "      <td>-1</td>\n",
              "      <td>0</td>\n",
              "      <td>unknown</td>\n",
              "      <td>no</td>\n",
              "    </tr>\n",
              "    <tr>\n",
              "      <th>3</th>\n",
              "      <td>47</td>\n",
              "      <td>blue-collar</td>\n",
              "      <td>married</td>\n",
              "      <td>unknown</td>\n",
              "      <td>no</td>\n",
              "      <td>1506</td>\n",
              "      <td>yes</td>\n",
              "      <td>no</td>\n",
              "      <td>unknown</td>\n",
              "      <td>5</td>\n",
              "      <td>may</td>\n",
              "      <td>92</td>\n",
              "      <td>1</td>\n",
              "      <td>-1</td>\n",
              "      <td>0</td>\n",
              "      <td>unknown</td>\n",
              "      <td>no</td>\n",
              "    </tr>\n",
              "    <tr>\n",
              "      <th>4</th>\n",
              "      <td>33</td>\n",
              "      <td>unknown</td>\n",
              "      <td>single</td>\n",
              "      <td>unknown</td>\n",
              "      <td>no</td>\n",
              "      <td>1</td>\n",
              "      <td>no</td>\n",
              "      <td>no</td>\n",
              "      <td>unknown</td>\n",
              "      <td>5</td>\n",
              "      <td>may</td>\n",
              "      <td>198</td>\n",
              "      <td>1</td>\n",
              "      <td>-1</td>\n",
              "      <td>0</td>\n",
              "      <td>unknown</td>\n",
              "      <td>no</td>\n",
              "    </tr>\n",
              "  </tbody>\n",
              "</table>\n",
              "</div>\n",
              "    <div class=\"colab-df-buttons\">\n",
              "\n",
              "  <div class=\"colab-df-container\">\n",
              "    <button class=\"colab-df-convert\" onclick=\"convertToInteractive('df-801340d2-4efc-4ca6-a7b8-d021fd98e7ff')\"\n",
              "            title=\"Convert this dataframe to an interactive table.\"\n",
              "            style=\"display:none;\">\n",
              "\n",
              "  <svg xmlns=\"http://www.w3.org/2000/svg\" height=\"24px\" viewBox=\"0 -960 960 960\">\n",
              "    <path d=\"M120-120v-720h720v720H120Zm60-500h600v-160H180v160Zm220 220h160v-160H400v160Zm0 220h160v-160H400v160ZM180-400h160v-160H180v160Zm440 0h160v-160H620v160ZM180-180h160v-160H180v160Zm440 0h160v-160H620v160Z\"/>\n",
              "  </svg>\n",
              "    </button>\n",
              "\n",
              "  <style>\n",
              "    .colab-df-container {\n",
              "      display:flex;\n",
              "      gap: 12px;\n",
              "    }\n",
              "\n",
              "    .colab-df-convert {\n",
              "      background-color: #E8F0FE;\n",
              "      border: none;\n",
              "      border-radius: 50%;\n",
              "      cursor: pointer;\n",
              "      display: none;\n",
              "      fill: #1967D2;\n",
              "      height: 32px;\n",
              "      padding: 0 0 0 0;\n",
              "      width: 32px;\n",
              "    }\n",
              "\n",
              "    .colab-df-convert:hover {\n",
              "      background-color: #E2EBFA;\n",
              "      box-shadow: 0px 1px 2px rgba(60, 64, 67, 0.3), 0px 1px 3px 1px rgba(60, 64, 67, 0.15);\n",
              "      fill: #174EA6;\n",
              "    }\n",
              "\n",
              "    .colab-df-buttons div {\n",
              "      margin-bottom: 4px;\n",
              "    }\n",
              "\n",
              "    [theme=dark] .colab-df-convert {\n",
              "      background-color: #3B4455;\n",
              "      fill: #D2E3FC;\n",
              "    }\n",
              "\n",
              "    [theme=dark] .colab-df-convert:hover {\n",
              "      background-color: #434B5C;\n",
              "      box-shadow: 0px 1px 3px 1px rgba(0, 0, 0, 0.15);\n",
              "      filter: drop-shadow(0px 1px 2px rgba(0, 0, 0, 0.3));\n",
              "      fill: #FFFFFF;\n",
              "    }\n",
              "  </style>\n",
              "\n",
              "    <script>\n",
              "      const buttonEl =\n",
              "        document.querySelector('#df-801340d2-4efc-4ca6-a7b8-d021fd98e7ff button.colab-df-convert');\n",
              "      buttonEl.style.display =\n",
              "        google.colab.kernel.accessAllowed ? 'block' : 'none';\n",
              "\n",
              "      async function convertToInteractive(key) {\n",
              "        const element = document.querySelector('#df-801340d2-4efc-4ca6-a7b8-d021fd98e7ff');\n",
              "        const dataTable =\n",
              "          await google.colab.kernel.invokeFunction('convertToInteractive',\n",
              "                                                    [key], {});\n",
              "        if (!dataTable) return;\n",
              "\n",
              "        const docLinkHtml = 'Like what you see? Visit the ' +\n",
              "          '<a target=\"_blank\" href=https://colab.research.google.com/notebooks/data_table.ipynb>data table notebook</a>'\n",
              "          + ' to learn more about interactive tables.';\n",
              "        element.innerHTML = '';\n",
              "        dataTable['output_type'] = 'display_data';\n",
              "        await google.colab.output.renderOutput(dataTable, element);\n",
              "        const docLink = document.createElement('div');\n",
              "        docLink.innerHTML = docLinkHtml;\n",
              "        element.appendChild(docLink);\n",
              "      }\n",
              "    </script>\n",
              "  </div>\n",
              "\n",
              "\n",
              "<div id=\"df-c9c60bbe-c02f-4b8a-9ee5-dba7d273f6e0\">\n",
              "  <button class=\"colab-df-quickchart\" onclick=\"quickchart('df-c9c60bbe-c02f-4b8a-9ee5-dba7d273f6e0')\"\n",
              "            title=\"Suggest charts\"\n",
              "            style=\"display:none;\">\n",
              "\n",
              "<svg xmlns=\"http://www.w3.org/2000/svg\" height=\"24px\"viewBox=\"0 0 24 24\"\n",
              "     width=\"24px\">\n",
              "    <g>\n",
              "        <path d=\"M19 3H5c-1.1 0-2 .9-2 2v14c0 1.1.9 2 2 2h14c1.1 0 2-.9 2-2V5c0-1.1-.9-2-2-2zM9 17H7v-7h2v7zm4 0h-2V7h2v10zm4 0h-2v-4h2v4z\"/>\n",
              "    </g>\n",
              "</svg>\n",
              "  </button>\n",
              "\n",
              "<style>\n",
              "  .colab-df-quickchart {\n",
              "      --bg-color: #E8F0FE;\n",
              "      --fill-color: #1967D2;\n",
              "      --hover-bg-color: #E2EBFA;\n",
              "      --hover-fill-color: #174EA6;\n",
              "      --disabled-fill-color: #AAA;\n",
              "      --disabled-bg-color: #DDD;\n",
              "  }\n",
              "\n",
              "  [theme=dark] .colab-df-quickchart {\n",
              "      --bg-color: #3B4455;\n",
              "      --fill-color: #D2E3FC;\n",
              "      --hover-bg-color: #434B5C;\n",
              "      --hover-fill-color: #FFFFFF;\n",
              "      --disabled-bg-color: #3B4455;\n",
              "      --disabled-fill-color: #666;\n",
              "  }\n",
              "\n",
              "  .colab-df-quickchart {\n",
              "    background-color: var(--bg-color);\n",
              "    border: none;\n",
              "    border-radius: 50%;\n",
              "    cursor: pointer;\n",
              "    display: none;\n",
              "    fill: var(--fill-color);\n",
              "    height: 32px;\n",
              "    padding: 0;\n",
              "    width: 32px;\n",
              "  }\n",
              "\n",
              "  .colab-df-quickchart:hover {\n",
              "    background-color: var(--hover-bg-color);\n",
              "    box-shadow: 0 1px 2px rgba(60, 64, 67, 0.3), 0 1px 3px 1px rgba(60, 64, 67, 0.15);\n",
              "    fill: var(--button-hover-fill-color);\n",
              "  }\n",
              "\n",
              "  .colab-df-quickchart-complete:disabled,\n",
              "  .colab-df-quickchart-complete:disabled:hover {\n",
              "    background-color: var(--disabled-bg-color);\n",
              "    fill: var(--disabled-fill-color);\n",
              "    box-shadow: none;\n",
              "  }\n",
              "\n",
              "  .colab-df-spinner {\n",
              "    border: 2px solid var(--fill-color);\n",
              "    border-color: transparent;\n",
              "    border-bottom-color: var(--fill-color);\n",
              "    animation:\n",
              "      spin 1s steps(1) infinite;\n",
              "  }\n",
              "\n",
              "  @keyframes spin {\n",
              "    0% {\n",
              "      border-color: transparent;\n",
              "      border-bottom-color: var(--fill-color);\n",
              "      border-left-color: var(--fill-color);\n",
              "    }\n",
              "    20% {\n",
              "      border-color: transparent;\n",
              "      border-left-color: var(--fill-color);\n",
              "      border-top-color: var(--fill-color);\n",
              "    }\n",
              "    30% {\n",
              "      border-color: transparent;\n",
              "      border-left-color: var(--fill-color);\n",
              "      border-top-color: var(--fill-color);\n",
              "      border-right-color: var(--fill-color);\n",
              "    }\n",
              "    40% {\n",
              "      border-color: transparent;\n",
              "      border-right-color: var(--fill-color);\n",
              "      border-top-color: var(--fill-color);\n",
              "    }\n",
              "    60% {\n",
              "      border-color: transparent;\n",
              "      border-right-color: var(--fill-color);\n",
              "    }\n",
              "    80% {\n",
              "      border-color: transparent;\n",
              "      border-right-color: var(--fill-color);\n",
              "      border-bottom-color: var(--fill-color);\n",
              "    }\n",
              "    90% {\n",
              "      border-color: transparent;\n",
              "      border-bottom-color: var(--fill-color);\n",
              "    }\n",
              "  }\n",
              "</style>\n",
              "\n",
              "  <script>\n",
              "    async function quickchart(key) {\n",
              "      const quickchartButtonEl =\n",
              "        document.querySelector('#' + key + ' button');\n",
              "      quickchartButtonEl.disabled = true;  // To prevent multiple clicks.\n",
              "      quickchartButtonEl.classList.add('colab-df-spinner');\n",
              "      try {\n",
              "        const charts = await google.colab.kernel.invokeFunction(\n",
              "            'suggestCharts', [key], {});\n",
              "      } catch (error) {\n",
              "        console.error('Error during call to suggestCharts:', error);\n",
              "      }\n",
              "      quickchartButtonEl.classList.remove('colab-df-spinner');\n",
              "      quickchartButtonEl.classList.add('colab-df-quickchart-complete');\n",
              "    }\n",
              "    (() => {\n",
              "      let quickchartButtonEl =\n",
              "        document.querySelector('#df-c9c60bbe-c02f-4b8a-9ee5-dba7d273f6e0 button');\n",
              "      quickchartButtonEl.style.display =\n",
              "        google.colab.kernel.accessAllowed ? 'block' : 'none';\n",
              "    })();\n",
              "  </script>\n",
              "</div>\n",
              "\n",
              "    </div>\n",
              "  </div>\n"
            ],
            "application/vnd.google.colaboratory.intrinsic+json": {
              "type": "dataframe",
              "variable_name": "data",
              "summary": "{\n  \"name\": \"data\",\n  \"rows\": 45211,\n  \"fields\": [\n    {\n      \"column\": \"age\",\n      \"properties\": {\n        \"dtype\": \"number\",\n        \"std\": 10,\n        \"min\": 18,\n        \"max\": 95,\n        \"num_unique_values\": 77,\n        \"samples\": [\n          35,\n          34,\n          53\n        ],\n        \"semantic_type\": \"\",\n        \"description\": \"\"\n      }\n    },\n    {\n      \"column\": \"job\",\n      \"properties\": {\n        \"dtype\": \"category\",\n        \"num_unique_values\": 12,\n        \"samples\": [\n          \"housemaid\",\n          \"unemployed\",\n          \"management\"\n        ],\n        \"semantic_type\": \"\",\n        \"description\": \"\"\n      }\n    },\n    {\n      \"column\": \"marital\",\n      \"properties\": {\n        \"dtype\": \"category\",\n        \"num_unique_values\": 3,\n        \"samples\": [\n          \"married\",\n          \"single\",\n          \"divorced\"\n        ],\n        \"semantic_type\": \"\",\n        \"description\": \"\"\n      }\n    },\n    {\n      \"column\": \"education\",\n      \"properties\": {\n        \"dtype\": \"category\",\n        \"num_unique_values\": 4,\n        \"samples\": [\n          \"secondary\",\n          \"primary\",\n          \"tertiary\"\n        ],\n        \"semantic_type\": \"\",\n        \"description\": \"\"\n      }\n    },\n    {\n      \"column\": \"default\",\n      \"properties\": {\n        \"dtype\": \"category\",\n        \"num_unique_values\": 2,\n        \"samples\": [\n          \"yes\",\n          \"no\"\n        ],\n        \"semantic_type\": \"\",\n        \"description\": \"\"\n      }\n    },\n    {\n      \"column\": \"balance\",\n      \"properties\": {\n        \"dtype\": \"number\",\n        \"std\": 3044,\n        \"min\": -8019,\n        \"max\": 102127,\n        \"num_unique_values\": 7168,\n        \"samples\": [\n          3276,\n          43\n        ],\n        \"semantic_type\": \"\",\n        \"description\": \"\"\n      }\n    },\n    {\n      \"column\": \"housing\",\n      \"properties\": {\n        \"dtype\": \"category\",\n        \"num_unique_values\": 2,\n        \"samples\": [\n          \"no\",\n          \"yes\"\n        ],\n        \"semantic_type\": \"\",\n        \"description\": \"\"\n      }\n    },\n    {\n      \"column\": \"loan\",\n      \"properties\": {\n        \"dtype\": \"category\",\n        \"num_unique_values\": 2,\n        \"samples\": [\n          \"yes\",\n          \"no\"\n        ],\n        \"semantic_type\": \"\",\n        \"description\": \"\"\n      }\n    },\n    {\n      \"column\": \"contact\",\n      \"properties\": {\n        \"dtype\": \"category\",\n        \"num_unique_values\": 3,\n        \"samples\": [\n          \"unknown\",\n          \"cellular\"\n        ],\n        \"semantic_type\": \"\",\n        \"description\": \"\"\n      }\n    },\n    {\n      \"column\": \"day\",\n      \"properties\": {\n        \"dtype\": \"number\",\n        \"std\": 8,\n        \"min\": 1,\n        \"max\": 31,\n        \"num_unique_values\": 31,\n        \"samples\": [\n          1,\n          27\n        ],\n        \"semantic_type\": \"\",\n        \"description\": \"\"\n      }\n    },\n    {\n      \"column\": \"month\",\n      \"properties\": {\n        \"dtype\": \"category\",\n        \"num_unique_values\": 12,\n        \"samples\": [\n          \"apr\",\n          \"mar\"\n        ],\n        \"semantic_type\": \"\",\n        \"description\": \"\"\n      }\n    },\n    {\n      \"column\": \"duration\",\n      \"properties\": {\n        \"dtype\": \"number\",\n        \"std\": 257,\n        \"min\": 0,\n        \"max\": 4918,\n        \"num_unique_values\": 1573,\n        \"samples\": [\n          835,\n          1135\n        ],\n        \"semantic_type\": \"\",\n        \"description\": \"\"\n      }\n    },\n    {\n      \"column\": \"campaign\",\n      \"properties\": {\n        \"dtype\": \"number\",\n        \"std\": 3,\n        \"min\": 1,\n        \"max\": 63,\n        \"num_unique_values\": 48,\n        \"samples\": [\n          41,\n          27\n        ],\n        \"semantic_type\": \"\",\n        \"description\": \"\"\n      }\n    },\n    {\n      \"column\": \"pdays\",\n      \"properties\": {\n        \"dtype\": \"number\",\n        \"std\": 100,\n        \"min\": -1,\n        \"max\": 871,\n        \"num_unique_values\": 559,\n        \"samples\": [\n          249,\n          551\n        ],\n        \"semantic_type\": \"\",\n        \"description\": \"\"\n      }\n    },\n    {\n      \"column\": \"previous\",\n      \"properties\": {\n        \"dtype\": \"number\",\n        \"std\": 2,\n        \"min\": 0,\n        \"max\": 275,\n        \"num_unique_values\": 41,\n        \"samples\": [\n          17,\n          9\n        ],\n        \"semantic_type\": \"\",\n        \"description\": \"\"\n      }\n    },\n    {\n      \"column\": \"poutcome\",\n      \"properties\": {\n        \"dtype\": \"category\",\n        \"num_unique_values\": 4,\n        \"samples\": [\n          \"failure\",\n          \"success\"\n        ],\n        \"semantic_type\": \"\",\n        \"description\": \"\"\n      }\n    },\n    {\n      \"column\": \"y\",\n      \"properties\": {\n        \"dtype\": \"category\",\n        \"num_unique_values\": 2,\n        \"samples\": [\n          \"yes\",\n          \"no\"\n        ],\n        \"semantic_type\": \"\",\n        \"description\": \"\"\n      }\n    }\n  ]\n}"
            }
          },
          "metadata": {},
          "execution_count": 7
        }
      ]
    },
    {
      "cell_type": "markdown",
      "source": [
        "### 2.2 View the columns of the data and understand them"
      ],
      "metadata": {
        "id": "zAWBd6tVvfMj"
      },
      "id": "zAWBd6tVvfMj"
    },
    {
      "cell_type": "code",
      "source": [
        "# View the columns of the dataset\n",
        "data.columns"
      ],
      "metadata": {
        "colab": {
          "base_uri": "https://localhost:8080/"
        },
        "id": "g2ugOQWXFoGZ",
        "outputId": "b2c4fe8e-344f-4320-aba5-584e606b2991"
      },
      "id": "g2ugOQWXFoGZ",
      "execution_count": null,
      "outputs": [
        {
          "output_type": "execute_result",
          "data": {
            "text/plain": [
              "Index(['age', 'job', 'marital', 'education', 'default', 'balance', 'housing',\n",
              "       'loan', 'contact', 'day', 'month', 'duration', 'campaign', 'pdays',\n",
              "       'previous', 'poutcome', 'y'],\n",
              "      dtype='object')"
            ]
          },
          "metadata": {},
          "execution_count": 8
        }
      ]
    },
    {
      "cell_type": "markdown",
      "source": [
        "### 2.3 Check the shape of the dataset"
      ],
      "metadata": {
        "id": "Q6dRlFFVvsDA"
      },
      "id": "Q6dRlFFVvsDA"
    },
    {
      "cell_type": "code",
      "source": [
        "# Checking the shape of the data\n",
        "data.shape"
      ],
      "metadata": {
        "colab": {
          "base_uri": "https://localhost:8080/"
        },
        "id": "6V7JM4GgF1OH",
        "outputId": "f4ca22d3-7826-4c29-ce78-6a4a4a543b7d"
      },
      "id": "6V7JM4GgF1OH",
      "execution_count": null,
      "outputs": [
        {
          "output_type": "execute_result",
          "data": {
            "text/plain": [
              "(45211, 17)"
            ]
          },
          "metadata": {},
          "execution_count": 9
        }
      ]
    },
    {
      "cell_type": "markdown",
      "source": [
        "### 2.4 Understand the datatypes of each of the columns"
      ],
      "metadata": {
        "id": "gdN7e6FVw0s7"
      },
      "id": "gdN7e6FVw0s7"
    },
    {
      "cell_type": "code",
      "source": [
        "# Check the dataset info\n",
        "data.info()"
      ],
      "metadata": {
        "colab": {
          "base_uri": "https://localhost:8080/"
        },
        "id": "8sFOJH8TGLtl",
        "outputId": "3d6f0801-da4c-4a3b-c2e3-5e78dff0949e"
      },
      "id": "8sFOJH8TGLtl",
      "execution_count": null,
      "outputs": [
        {
          "output_type": "stream",
          "name": "stdout",
          "text": [
            "<class 'pandas.core.frame.DataFrame'>\n",
            "RangeIndex: 45211 entries, 0 to 45210\n",
            "Data columns (total 17 columns):\n",
            " #   Column     Non-Null Count  Dtype \n",
            "---  ------     --------------  ----- \n",
            " 0   age        45211 non-null  int64 \n",
            " 1   job        45211 non-null  object\n",
            " 2   marital    45211 non-null  object\n",
            " 3   education  45211 non-null  object\n",
            " 4   default    45211 non-null  object\n",
            " 5   balance    45211 non-null  int64 \n",
            " 6   housing    45211 non-null  object\n",
            " 7   loan       45211 non-null  object\n",
            " 8   contact    45211 non-null  object\n",
            " 9   day        45211 non-null  int64 \n",
            " 10  month      45211 non-null  object\n",
            " 11  duration   45211 non-null  int64 \n",
            " 12  campaign   45211 non-null  int64 \n",
            " 13  pdays      45211 non-null  int64 \n",
            " 14  previous   45211 non-null  int64 \n",
            " 15  poutcome   45211 non-null  object\n",
            " 16  y          45211 non-null  object\n",
            "dtypes: int64(7), object(10)\n",
            "memory usage: 5.9+ MB\n"
          ]
        }
      ]
    },
    {
      "cell_type": "markdown",
      "source": [
        "**Observation:**\n",
        "The dataset contains columns with `int64` and `object` data types, and all rows are filled with non-null values."
      ],
      "metadata": {
        "id": "HMh1KRfEPrUC"
      },
      "id": "HMh1KRfEPrUC"
    },
    {
      "cell_type": "markdown",
      "source": [
        "### 2.5 Get a summary of the dataset using the describe method."
      ],
      "metadata": {
        "id": "p92AdEjQMFna"
      },
      "id": "p92AdEjQMFna"
    },
    {
      "cell_type": "code",
      "source": [
        "# Get a statistical summary of the dataset\n",
        "data.describe()"
      ],
      "metadata": {
        "colab": {
          "base_uri": "https://localhost:8080/",
          "height": 300
        },
        "id": "IdwtJKjuMI_a",
        "outputId": "2452112f-8ce1-4131-a30d-82ddceae8661"
      },
      "id": "IdwtJKjuMI_a",
      "execution_count": null,
      "outputs": [
        {
          "output_type": "execute_result",
          "data": {
            "text/plain": [
              "                age        balance           day      duration      campaign  \\\n",
              "count  45211.000000   45211.000000  45211.000000  45211.000000  45211.000000   \n",
              "mean      40.936210    1362.272058     15.806419    258.163080      2.763841   \n",
              "std       10.618762    3044.765829      8.322476    257.527812      3.098021   \n",
              "min       18.000000   -8019.000000      1.000000      0.000000      1.000000   \n",
              "25%       33.000000      72.000000      8.000000    103.000000      1.000000   \n",
              "50%       39.000000     448.000000     16.000000    180.000000      2.000000   \n",
              "75%       48.000000    1428.000000     21.000000    319.000000      3.000000   \n",
              "max       95.000000  102127.000000     31.000000   4918.000000     63.000000   \n",
              "\n",
              "              pdays      previous  \n",
              "count  45211.000000  45211.000000  \n",
              "mean      40.197828      0.580323  \n",
              "std      100.128746      2.303441  \n",
              "min       -1.000000      0.000000  \n",
              "25%       -1.000000      0.000000  \n",
              "50%       -1.000000      0.000000  \n",
              "75%       -1.000000      0.000000  \n",
              "max      871.000000    275.000000  "
            ],
            "text/html": [
              "\n",
              "  <div id=\"df-b651732e-a7fd-4800-8e29-375c4b7b14f1\" class=\"colab-df-container\">\n",
              "    <div>\n",
              "<style scoped>\n",
              "    .dataframe tbody tr th:only-of-type {\n",
              "        vertical-align: middle;\n",
              "    }\n",
              "\n",
              "    .dataframe tbody tr th {\n",
              "        vertical-align: top;\n",
              "    }\n",
              "\n",
              "    .dataframe thead th {\n",
              "        text-align: right;\n",
              "    }\n",
              "</style>\n",
              "<table border=\"1\" class=\"dataframe\">\n",
              "  <thead>\n",
              "    <tr style=\"text-align: right;\">\n",
              "      <th></th>\n",
              "      <th>age</th>\n",
              "      <th>balance</th>\n",
              "      <th>day</th>\n",
              "      <th>duration</th>\n",
              "      <th>campaign</th>\n",
              "      <th>pdays</th>\n",
              "      <th>previous</th>\n",
              "    </tr>\n",
              "  </thead>\n",
              "  <tbody>\n",
              "    <tr>\n",
              "      <th>count</th>\n",
              "      <td>45211.000000</td>\n",
              "      <td>45211.000000</td>\n",
              "      <td>45211.000000</td>\n",
              "      <td>45211.000000</td>\n",
              "      <td>45211.000000</td>\n",
              "      <td>45211.000000</td>\n",
              "      <td>45211.000000</td>\n",
              "    </tr>\n",
              "    <tr>\n",
              "      <th>mean</th>\n",
              "      <td>40.936210</td>\n",
              "      <td>1362.272058</td>\n",
              "      <td>15.806419</td>\n",
              "      <td>258.163080</td>\n",
              "      <td>2.763841</td>\n",
              "      <td>40.197828</td>\n",
              "      <td>0.580323</td>\n",
              "    </tr>\n",
              "    <tr>\n",
              "      <th>std</th>\n",
              "      <td>10.618762</td>\n",
              "      <td>3044.765829</td>\n",
              "      <td>8.322476</td>\n",
              "      <td>257.527812</td>\n",
              "      <td>3.098021</td>\n",
              "      <td>100.128746</td>\n",
              "      <td>2.303441</td>\n",
              "    </tr>\n",
              "    <tr>\n",
              "      <th>min</th>\n",
              "      <td>18.000000</td>\n",
              "      <td>-8019.000000</td>\n",
              "      <td>1.000000</td>\n",
              "      <td>0.000000</td>\n",
              "      <td>1.000000</td>\n",
              "      <td>-1.000000</td>\n",
              "      <td>0.000000</td>\n",
              "    </tr>\n",
              "    <tr>\n",
              "      <th>25%</th>\n",
              "      <td>33.000000</td>\n",
              "      <td>72.000000</td>\n",
              "      <td>8.000000</td>\n",
              "      <td>103.000000</td>\n",
              "      <td>1.000000</td>\n",
              "      <td>-1.000000</td>\n",
              "      <td>0.000000</td>\n",
              "    </tr>\n",
              "    <tr>\n",
              "      <th>50%</th>\n",
              "      <td>39.000000</td>\n",
              "      <td>448.000000</td>\n",
              "      <td>16.000000</td>\n",
              "      <td>180.000000</td>\n",
              "      <td>2.000000</td>\n",
              "      <td>-1.000000</td>\n",
              "      <td>0.000000</td>\n",
              "    </tr>\n",
              "    <tr>\n",
              "      <th>75%</th>\n",
              "      <td>48.000000</td>\n",
              "      <td>1428.000000</td>\n",
              "      <td>21.000000</td>\n",
              "      <td>319.000000</td>\n",
              "      <td>3.000000</td>\n",
              "      <td>-1.000000</td>\n",
              "      <td>0.000000</td>\n",
              "    </tr>\n",
              "    <tr>\n",
              "      <th>max</th>\n",
              "      <td>95.000000</td>\n",
              "      <td>102127.000000</td>\n",
              "      <td>31.000000</td>\n",
              "      <td>4918.000000</td>\n",
              "      <td>63.000000</td>\n",
              "      <td>871.000000</td>\n",
              "      <td>275.000000</td>\n",
              "    </tr>\n",
              "  </tbody>\n",
              "</table>\n",
              "</div>\n",
              "    <div class=\"colab-df-buttons\">\n",
              "\n",
              "  <div class=\"colab-df-container\">\n",
              "    <button class=\"colab-df-convert\" onclick=\"convertToInteractive('df-b651732e-a7fd-4800-8e29-375c4b7b14f1')\"\n",
              "            title=\"Convert this dataframe to an interactive table.\"\n",
              "            style=\"display:none;\">\n",
              "\n",
              "  <svg xmlns=\"http://www.w3.org/2000/svg\" height=\"24px\" viewBox=\"0 -960 960 960\">\n",
              "    <path d=\"M120-120v-720h720v720H120Zm60-500h600v-160H180v160Zm220 220h160v-160H400v160Zm0 220h160v-160H400v160ZM180-400h160v-160H180v160Zm440 0h160v-160H620v160ZM180-180h160v-160H180v160Zm440 0h160v-160H620v160Z\"/>\n",
              "  </svg>\n",
              "    </button>\n",
              "\n",
              "  <style>\n",
              "    .colab-df-container {\n",
              "      display:flex;\n",
              "      gap: 12px;\n",
              "    }\n",
              "\n",
              "    .colab-df-convert {\n",
              "      background-color: #E8F0FE;\n",
              "      border: none;\n",
              "      border-radius: 50%;\n",
              "      cursor: pointer;\n",
              "      display: none;\n",
              "      fill: #1967D2;\n",
              "      height: 32px;\n",
              "      padding: 0 0 0 0;\n",
              "      width: 32px;\n",
              "    }\n",
              "\n",
              "    .colab-df-convert:hover {\n",
              "      background-color: #E2EBFA;\n",
              "      box-shadow: 0px 1px 2px rgba(60, 64, 67, 0.3), 0px 1px 3px 1px rgba(60, 64, 67, 0.15);\n",
              "      fill: #174EA6;\n",
              "    }\n",
              "\n",
              "    .colab-df-buttons div {\n",
              "      margin-bottom: 4px;\n",
              "    }\n",
              "\n",
              "    [theme=dark] .colab-df-convert {\n",
              "      background-color: #3B4455;\n",
              "      fill: #D2E3FC;\n",
              "    }\n",
              "\n",
              "    [theme=dark] .colab-df-convert:hover {\n",
              "      background-color: #434B5C;\n",
              "      box-shadow: 0px 1px 3px 1px rgba(0, 0, 0, 0.15);\n",
              "      filter: drop-shadow(0px 1px 2px rgba(0, 0, 0, 0.3));\n",
              "      fill: #FFFFFF;\n",
              "    }\n",
              "  </style>\n",
              "\n",
              "    <script>\n",
              "      const buttonEl =\n",
              "        document.querySelector('#df-b651732e-a7fd-4800-8e29-375c4b7b14f1 button.colab-df-convert');\n",
              "      buttonEl.style.display =\n",
              "        google.colab.kernel.accessAllowed ? 'block' : 'none';\n",
              "\n",
              "      async function convertToInteractive(key) {\n",
              "        const element = document.querySelector('#df-b651732e-a7fd-4800-8e29-375c4b7b14f1');\n",
              "        const dataTable =\n",
              "          await google.colab.kernel.invokeFunction('convertToInteractive',\n",
              "                                                    [key], {});\n",
              "        if (!dataTable) return;\n",
              "\n",
              "        const docLinkHtml = 'Like what you see? Visit the ' +\n",
              "          '<a target=\"_blank\" href=https://colab.research.google.com/notebooks/data_table.ipynb>data table notebook</a>'\n",
              "          + ' to learn more about interactive tables.';\n",
              "        element.innerHTML = '';\n",
              "        dataTable['output_type'] = 'display_data';\n",
              "        await google.colab.output.renderOutput(dataTable, element);\n",
              "        const docLink = document.createElement('div');\n",
              "        docLink.innerHTML = docLinkHtml;\n",
              "        element.appendChild(docLink);\n",
              "      }\n",
              "    </script>\n",
              "  </div>\n",
              "\n",
              "\n",
              "<div id=\"df-bdd27e72-057a-4b26-be5c-6abb6f718426\">\n",
              "  <button class=\"colab-df-quickchart\" onclick=\"quickchart('df-bdd27e72-057a-4b26-be5c-6abb6f718426')\"\n",
              "            title=\"Suggest charts\"\n",
              "            style=\"display:none;\">\n",
              "\n",
              "<svg xmlns=\"http://www.w3.org/2000/svg\" height=\"24px\"viewBox=\"0 0 24 24\"\n",
              "     width=\"24px\">\n",
              "    <g>\n",
              "        <path d=\"M19 3H5c-1.1 0-2 .9-2 2v14c0 1.1.9 2 2 2h14c1.1 0 2-.9 2-2V5c0-1.1-.9-2-2-2zM9 17H7v-7h2v7zm4 0h-2V7h2v10zm4 0h-2v-4h2v4z\"/>\n",
              "    </g>\n",
              "</svg>\n",
              "  </button>\n",
              "\n",
              "<style>\n",
              "  .colab-df-quickchart {\n",
              "      --bg-color: #E8F0FE;\n",
              "      --fill-color: #1967D2;\n",
              "      --hover-bg-color: #E2EBFA;\n",
              "      --hover-fill-color: #174EA6;\n",
              "      --disabled-fill-color: #AAA;\n",
              "      --disabled-bg-color: #DDD;\n",
              "  }\n",
              "\n",
              "  [theme=dark] .colab-df-quickchart {\n",
              "      --bg-color: #3B4455;\n",
              "      --fill-color: #D2E3FC;\n",
              "      --hover-bg-color: #434B5C;\n",
              "      --hover-fill-color: #FFFFFF;\n",
              "      --disabled-bg-color: #3B4455;\n",
              "      --disabled-fill-color: #666;\n",
              "  }\n",
              "\n",
              "  .colab-df-quickchart {\n",
              "    background-color: var(--bg-color);\n",
              "    border: none;\n",
              "    border-radius: 50%;\n",
              "    cursor: pointer;\n",
              "    display: none;\n",
              "    fill: var(--fill-color);\n",
              "    height: 32px;\n",
              "    padding: 0;\n",
              "    width: 32px;\n",
              "  }\n",
              "\n",
              "  .colab-df-quickchart:hover {\n",
              "    background-color: var(--hover-bg-color);\n",
              "    box-shadow: 0 1px 2px rgba(60, 64, 67, 0.3), 0 1px 3px 1px rgba(60, 64, 67, 0.15);\n",
              "    fill: var(--button-hover-fill-color);\n",
              "  }\n",
              "\n",
              "  .colab-df-quickchart-complete:disabled,\n",
              "  .colab-df-quickchart-complete:disabled:hover {\n",
              "    background-color: var(--disabled-bg-color);\n",
              "    fill: var(--disabled-fill-color);\n",
              "    box-shadow: none;\n",
              "  }\n",
              "\n",
              "  .colab-df-spinner {\n",
              "    border: 2px solid var(--fill-color);\n",
              "    border-color: transparent;\n",
              "    border-bottom-color: var(--fill-color);\n",
              "    animation:\n",
              "      spin 1s steps(1) infinite;\n",
              "  }\n",
              "\n",
              "  @keyframes spin {\n",
              "    0% {\n",
              "      border-color: transparent;\n",
              "      border-bottom-color: var(--fill-color);\n",
              "      border-left-color: var(--fill-color);\n",
              "    }\n",
              "    20% {\n",
              "      border-color: transparent;\n",
              "      border-left-color: var(--fill-color);\n",
              "      border-top-color: var(--fill-color);\n",
              "    }\n",
              "    30% {\n",
              "      border-color: transparent;\n",
              "      border-left-color: var(--fill-color);\n",
              "      border-top-color: var(--fill-color);\n",
              "      border-right-color: var(--fill-color);\n",
              "    }\n",
              "    40% {\n",
              "      border-color: transparent;\n",
              "      border-right-color: var(--fill-color);\n",
              "      border-top-color: var(--fill-color);\n",
              "    }\n",
              "    60% {\n",
              "      border-color: transparent;\n",
              "      border-right-color: var(--fill-color);\n",
              "    }\n",
              "    80% {\n",
              "      border-color: transparent;\n",
              "      border-right-color: var(--fill-color);\n",
              "      border-bottom-color: var(--fill-color);\n",
              "    }\n",
              "    90% {\n",
              "      border-color: transparent;\n",
              "      border-bottom-color: var(--fill-color);\n",
              "    }\n",
              "  }\n",
              "</style>\n",
              "\n",
              "  <script>\n",
              "    async function quickchart(key) {\n",
              "      const quickchartButtonEl =\n",
              "        document.querySelector('#' + key + ' button');\n",
              "      quickchartButtonEl.disabled = true;  // To prevent multiple clicks.\n",
              "      quickchartButtonEl.classList.add('colab-df-spinner');\n",
              "      try {\n",
              "        const charts = await google.colab.kernel.invokeFunction(\n",
              "            'suggestCharts', [key], {});\n",
              "      } catch (error) {\n",
              "        console.error('Error during call to suggestCharts:', error);\n",
              "      }\n",
              "      quickchartButtonEl.classList.remove('colab-df-spinner');\n",
              "      quickchartButtonEl.classList.add('colab-df-quickchart-complete');\n",
              "    }\n",
              "    (() => {\n",
              "      let quickchartButtonEl =\n",
              "        document.querySelector('#df-bdd27e72-057a-4b26-be5c-6abb6f718426 button');\n",
              "      quickchartButtonEl.style.display =\n",
              "        google.colab.kernel.accessAllowed ? 'block' : 'none';\n",
              "    })();\n",
              "  </script>\n",
              "</div>\n",
              "\n",
              "    </div>\n",
              "  </div>\n"
            ],
            "application/vnd.google.colaboratory.intrinsic+json": {
              "type": "dataframe",
              "summary": "{\n  \"name\": \"data\",\n  \"rows\": 8,\n  \"fields\": [\n    {\n      \"column\": \"age\",\n      \"properties\": {\n        \"dtype\": \"number\",\n        \"std\": 15970.150201692022,\n        \"min\": 10.618762040975431,\n        \"max\": 45211.0,\n        \"num_unique_values\": 8,\n        \"samples\": [\n          40.93621021432837,\n          39.0,\n          45211.0\n        ],\n        \"semantic_type\": \"\",\n        \"description\": \"\"\n      }\n    },\n    {\n      \"column\": \"balance\",\n      \"properties\": {\n        \"dtype\": \"number\",\n        \"std\": 37605.126555585215,\n        \"min\": -8019.0,\n        \"max\": 102127.0,\n        \"num_unique_values\": 8,\n        \"samples\": [\n          1362.2720576850766,\n          448.0,\n          45211.0\n        ],\n        \"semantic_type\": \"\",\n        \"description\": \"\"\n      }\n    },\n    {\n      \"column\": \"day\",\n      \"properties\": {\n        \"dtype\": \"number\",\n        \"std\": 15979.397159121005,\n        \"min\": 1.0,\n        \"max\": 45211.0,\n        \"num_unique_values\": 8,\n        \"samples\": [\n          15.80641879188693,\n          16.0,\n          45211.0\n        ],\n        \"semantic_type\": \"\",\n        \"description\": \"\"\n      }\n    },\n    {\n      \"column\": \"duration\",\n      \"properties\": {\n        \"dtype\": \"number\",\n        \"std\": 15767.149700866448,\n        \"min\": 0.0,\n        \"max\": 45211.0,\n        \"num_unique_values\": 8,\n        \"samples\": [\n          258.1630797814691,\n          180.0,\n          45211.0\n        ],\n        \"semantic_type\": \"\",\n        \"description\": \"\"\n      }\n    },\n    {\n      \"column\": \"campaign\",\n      \"properties\": {\n        \"dtype\": \"number\",\n        \"std\": 15980.684949017386,\n        \"min\": 1.0,\n        \"max\": 45211.0,\n        \"num_unique_values\": 7,\n        \"samples\": [\n          45211.0,\n          2.763840658246887,\n          3.0\n        ],\n        \"semantic_type\": \"\",\n        \"description\": \"\"\n      }\n    },\n    {\n      \"column\": \"pdays\",\n      \"properties\": {\n        \"dtype\": \"number\",\n        \"std\": 15936.427694880493,\n        \"min\": -1.0,\n        \"max\": 45211.0,\n        \"num_unique_values\": 5,\n        \"samples\": [\n          40.19782796222158,\n          871.0,\n          100.1287459906047\n        ],\n        \"semantic_type\": \"\",\n        \"description\": \"\"\n      }\n    },\n    {\n      \"column\": \"previous\",\n      \"properties\": {\n        \"dtype\": \"number\",\n        \"std\": 15970.756012949014,\n        \"min\": 0.0,\n        \"max\": 45211.0,\n        \"num_unique_values\": 5,\n        \"samples\": [\n          0.5803233726305546,\n          275.0,\n          2.3034410449314233\n        ],\n        \"semantic_type\": \"\",\n        \"description\": \"\"\n      }\n    }\n  ]\n}"
            }
          },
          "metadata": {},
          "execution_count": 14
        }
      ]
    },
    {
      "cell_type": "markdown",
      "source": [
        "# STEP 3: EDA\n"
      ],
      "metadata": {
        "id": "So2BjrTCPz66"
      },
      "id": "So2BjrTCPz66"
    },
    {
      "cell_type": "markdown",
      "source": [
        "\n",
        "### 3.1  Check the value counts of the target variable y in the dataset"
      ],
      "metadata": {
        "id": "8-0J_cZbMm_B"
      },
      "id": "8-0J_cZbMm_B"
    },
    {
      "cell_type": "markdown",
      "source": [
        "A common problem in binary classification tasks is data imbalance, where one class significantly outnumbers the other. In this question, you need to check whether the target variable y (whether the customer subscribed to a term deposit) is imbalanced in the dataset."
      ],
      "metadata": {
        "id": "UiImxZ4SMheQ"
      },
      "id": "UiImxZ4SMheQ"
    },
    {
      "cell_type": "code",
      "source": [
        "# Check the value counts in target column\n",
        "data['y'].value_counts()"
      ],
      "metadata": {
        "colab": {
          "base_uri": "https://localhost:8080/",
          "height": 178
        },
        "id": "TXK9FW9WM17T",
        "outputId": "4006b475-bb0a-49b6-c18c-c4882eb50415"
      },
      "id": "TXK9FW9WM17T",
      "execution_count": null,
      "outputs": [
        {
          "output_type": "execute_result",
          "data": {
            "text/plain": [
              "y\n",
              "no     39922\n",
              "yes     5289\n",
              "Name: count, dtype: int64"
            ],
            "text/html": [
              "<div>\n",
              "<style scoped>\n",
              "    .dataframe tbody tr th:only-of-type {\n",
              "        vertical-align: middle;\n",
              "    }\n",
              "\n",
              "    .dataframe tbody tr th {\n",
              "        vertical-align: top;\n",
              "    }\n",
              "\n",
              "    .dataframe thead th {\n",
              "        text-align: right;\n",
              "    }\n",
              "</style>\n",
              "<table border=\"1\" class=\"dataframe\">\n",
              "  <thead>\n",
              "    <tr style=\"text-align: right;\">\n",
              "      <th></th>\n",
              "      <th>count</th>\n",
              "    </tr>\n",
              "    <tr>\n",
              "      <th>y</th>\n",
              "      <th></th>\n",
              "    </tr>\n",
              "  </thead>\n",
              "  <tbody>\n",
              "    <tr>\n",
              "      <th>no</th>\n",
              "      <td>39922</td>\n",
              "    </tr>\n",
              "    <tr>\n",
              "      <th>yes</th>\n",
              "      <td>5289</td>\n",
              "    </tr>\n",
              "  </tbody>\n",
              "</table>\n",
              "</div><br><label><b>dtype:</b> int64</label>"
            ]
          },
          "metadata": {},
          "execution_count": 20
        }
      ]
    },
    {
      "cell_type": "markdown",
      "source": [
        "### 3.2 Plot the distribution of the value counts for the target variable y"
      ],
      "metadata": {
        "id": "D_2si9jiNUzT"
      },
      "id": "D_2si9jiNUzT"
    },
    {
      "cell_type": "code",
      "source": [
        "# Get the value counts of 'y'\n",
        "y_counts = data['y'].value_counts()\n",
        "\n",
        "# Plot the distribution\n",
        "plt.figure(figsize=(4,3))\n",
        "sns.barplot(x=y_counts.index, y=y_counts.values)\n",
        "plt.xlabel('Target Variable (y)')\n",
        "plt.ylabel('Count')\n",
        "plt.title('Distribution of Value Counts for Target Variable (y)')\n",
        "plt.show()"
      ],
      "metadata": {
        "colab": {
          "base_uri": "https://localhost:8080/",
          "height": 333
        },
        "id": "RFIzBb44NeCi",
        "outputId": "484669cb-93d5-4cf7-86ec-8c23d13b495e"
      },
      "id": "RFIzBb44NeCi",
      "execution_count": null,
      "outputs": [
        {
          "output_type": "display_data",
          "data": {
            "text/plain": [
              "<Figure size 400x300 with 1 Axes>"
            ],
            "image/png": "[encoded data removed]"
          },
          "metadata": {}
        }
      ]
    },
    {
      "cell_type": "markdown",
      "source": [
        "### 3.3 Plot a pie chart to visualize the distribution of the target variable y, including the percentages of each category"
      ],
      "metadata": {
        "id": "g2RJC3ktOhKb"
      },
      "id": "g2RJC3ktOhKb"
    },
    {
      "cell_type": "code",
      "source": [
        "# Get the value counts of 'y'\n",
        "y_counts = data['y'].value_counts()\n",
        "\n",
        "# Create a pie chart\n",
        "plt.figure(figsize=(4, 3))\n",
        "plt.pie(y_counts, labels=y_counts.index, autopct='%1.1f%%', startangle=90)\n",
        "plt.title('Distribution of Target Variable (y)')\n",
        "plt.axis('equal')  # Equal aspect ratio ensures that pie chart is a circle.\n",
        "plt.show()"
      ],
      "metadata": {
        "colab": {
          "base_uri": "https://localhost:8080/",
          "height": 290
        },
        "id": "uVKL0f4xOnfY",
        "outputId": "ea8e909d-d840-419e-8040-4e497be09458"
      },
      "id": "uVKL0f4xOnfY",
      "execution_count": null,
      "outputs": [
        {
          "output_type": "display_data",
          "data": {
            "text/plain": [
              "<Figure size 400x300 with 1 Axes>"
            ],
            "image/png": "[encoded data removed]"
          },
          "metadata": {}
        }
      ]
    },
    {
      "cell_type": "markdown",
      "source": [
        "Observation:\n",
        "\n",
        "* The dataset is highly imbalanced, with the majority of the target variable y being \"no\" (39,922 instances), compared to \"yes\" (5,289 instances).\n",
        "* Approximately 88.4% of the entries are \"no,\" and only 11.6% are \"yes.\"\n",
        "* This imbalance suggests that the dataset is dominated by negative outcomes (no), which could affect the performance of certain machine learning models if not addressed."
      ],
      "metadata": {
        "id": "W3kWSt-rN34n"
      },
      "id": "W3kWSt-rN34n"
    },
    {
      "cell_type": "markdown",
      "source": [
        "### 3.4 Why do you think classs imabalnce is a problem, and list down your ideas on addressing the class imbalance?"
      ],
      "metadata": {
        "id": "RP-dZasGPCdg"
      },
      "id": "RP-dZasGPCdg"
    },
    {
      "cell_type": "markdown",
      "source": [
        "Class imbalance leads to biased models that tend to favor the majority class, resulting in poor performance on the minority class. It also causes misleading accuracy, making precision, recall, and F1-score more appropriate metrics. To address it, techniques like resampling, class weighting, and threshold tuning can be used, along with ensemble methods and anomaly detection approaches."
      ],
      "metadata": {
        "id": "t4WPlOZ9O3mr"
      },
      "id": "t4WPlOZ9O3mr"
    },
    {
      "cell_type": "markdown",
      "source": [
        "### 3.5 For this problem what do you think is a good performance metric, precision, recall, f1-score or all of them? justify your answer."
      ],
      "metadata": {
        "id": "ll4NylrLPTnj"
      },
      "id": "ll4NylrLPTnj"
    },
    {
      "cell_type": "markdown",
      "source": [
        "Explanation:\n",
        "* In this case, predicting a potential loan-taker as non-loan taker, i.e., False Negative results in loss of revenue to the bank.\n",
        "* However, predicting a non-loan taker as loan-taker, i.e., False Negatives, and to continuosly target such uninterested/non-potential customers would negatively impact the overall customer experience while it additionally adds upto the marketing spend.\n",
        "* Therefore, while recall is important, it should be balanced wtih precision too. Hence, Recall, along with F1 Score are good reliable metrics for the given problem statement."
      ],
      "metadata": {
        "id": "zW-te2XfPcac"
      },
      "id": "zW-te2XfPcac"
    },
    {
      "cell_type": "markdown",
      "source": [
        "# Step 4:  Data Preprocessing"
      ],
      "metadata": {
        "id": "2HX8OWN-PrE8"
      },
      "id": "2HX8OWN-PrE8"
    },
    {
      "cell_type": "markdown",
      "source": [
        "### 4.1 Check for any duplicate rows in the dataset."
      ],
      "metadata": {
        "id": "DgegmF9EP_yz"
      },
      "id": "DgegmF9EP_yz"
    },
    {
      "cell_type": "code",
      "source": [
        "# Check for duplicate row\n",
        "data.duplicated().sum()"
      ],
      "metadata": {
        "colab": {
          "base_uri": "https://localhost:8080/"
        },
        "id": "Y5nezbLVO2r8",
        "outputId": "62aaba61-7805-44a7-d11d-c81a26b8f30b"
      },
      "id": "Y5nezbLVO2r8",
      "execution_count": null,
      "outputs": [
        {
          "output_type": "execute_result",
          "data": {
            "text/plain": [
              "0"
            ]
          },
          "metadata": {},
          "execution_count": 28
        }
      ]
    },
    {
      "cell_type": "markdown",
      "source": [
        "Observation: There are no duplicate rows in the dataset"
      ],
      "metadata": {
        "id": "oWChh9sAQN9a"
      },
      "id": "oWChh9sAQN9a"
    },
    {
      "cell_type": "markdown",
      "source": [
        "### 4.2 Check the Null values\n"
      ],
      "metadata": {
        "id": "Rkptv-nNVc-M"
      },
      "id": "Rkptv-nNVc-M"
    },
    {
      "cell_type": "code",
      "source": [
        "# Check for missing values in the dataset\n",
        "data.isnull().sum()"
      ],
      "metadata": {
        "colab": {
          "base_uri": "https://localhost:8080/",
          "height": 617
        },
        "id": "X57s62ohJ8OJ",
        "outputId": "d32a127c-57f0-4dc6-b5e1-e221ad34374c"
      },
      "execution_count": null,
      "outputs": [
        {
          "output_type": "execute_result",
          "data": {
            "text/plain": [
              "age          0\n",
              "job          0\n",
              "marital      0\n",
              "education    0\n",
              "default      0\n",
              "balance      0\n",
              "housing      0\n",
              "loan         0\n",
              "contact      0\n",
              "day          0\n",
              "month        0\n",
              "duration     0\n",
              "campaign     0\n",
              "pdays        0\n",
              "previous     0\n",
              "poutcome     0\n",
              "y            0\n",
              "dtype: int64"
            ],
            "text/html": [
              "<div>\n",
              "<style scoped>\n",
              "    .dataframe tbody tr th:only-of-type {\n",
              "        vertical-align: middle;\n",
              "    }\n",
              "\n",
              "    .dataframe tbody tr th {\n",
              "        vertical-align: top;\n",
              "    }\n",
              "\n",
              "    .dataframe thead th {\n",
              "        text-align: right;\n",
              "    }\n",
              "</style>\n",
              "<table border=\"1\" class=\"dataframe\">\n",
              "  <thead>\n",
              "    <tr style=\"text-align: right;\">\n",
              "      <th></th>\n",
              "      <th>0</th>\n",
              "    </tr>\n",
              "  </thead>\n",
              "  <tbody>\n",
              "    <tr>\n",
              "      <th>age</th>\n",
              "      <td>0</td>\n",
              "    </tr>\n",
              "    <tr>\n",
              "      <th>job</th>\n",
              "      <td>0</td>\n",
              "    </tr>\n",
              "    <tr>\n",
              "      <th>marital</th>\n",
              "      <td>0</td>\n",
              "    </tr>\n",
              "    <tr>\n",
              "      <th>education</th>\n",
              "      <td>0</td>\n",
              "    </tr>\n",
              "    <tr>\n",
              "      <th>default</th>\n",
              "      <td>0</td>\n",
              "    </tr>\n",
              "    <tr>\n",
              "      <th>balance</th>\n",
              "      <td>0</td>\n",
              "    </tr>\n",
              "    <tr>\n",
              "      <th>housing</th>\n",
              "      <td>0</td>\n",
              "    </tr>\n",
              "    <tr>\n",
              "      <th>loan</th>\n",
              "      <td>0</td>\n",
              "    </tr>\n",
              "    <tr>\n",
              "      <th>contact</th>\n",
              "      <td>0</td>\n",
              "    </tr>\n",
              "    <tr>\n",
              "      <th>day</th>\n",
              "      <td>0</td>\n",
              "    </tr>\n",
              "    <tr>\n",
              "      <th>month</th>\n",
              "      <td>0</td>\n",
              "    </tr>\n",
              "    <tr>\n",
              "      <th>duration</th>\n",
              "      <td>0</td>\n",
              "    </tr>\n",
              "    <tr>\n",
              "      <th>campaign</th>\n",
              "      <td>0</td>\n",
              "    </tr>\n",
              "    <tr>\n",
              "      <th>pdays</th>\n",
              "      <td>0</td>\n",
              "    </tr>\n",
              "    <tr>\n",
              "      <th>previous</th>\n",
              "      <td>0</td>\n",
              "    </tr>\n",
              "    <tr>\n",
              "      <th>poutcome</th>\n",
              "      <td>0</td>\n",
              "    </tr>\n",
              "    <tr>\n",
              "      <th>y</th>\n",
              "      <td>0</td>\n",
              "    </tr>\n",
              "  </tbody>\n",
              "</table>\n",
              "</div><br><label><b>dtype:</b> int64</label>"
            ]
          },
          "metadata": {},
          "execution_count": 13
        }
      ],
      "id": "X57s62ohJ8OJ"
    },
    {
      "cell_type": "markdown",
      "source": [
        "Observation: There are no null values present in the data."
      ],
      "metadata": {
        "id": "f7A6yZjeL3xS"
      },
      "id": "f7A6yZjeL3xS"
    },
    {
      "cell_type": "markdown",
      "source": [
        "From our previous analysis, we found that there are no null or duplicate values in the data. Therefore, we are ready to proceed with model building."
      ],
      "metadata": {
        "id": "5dVMbzt3Q75u"
      },
      "id": "5dVMbzt3Q75u"
    },
    {
      "cell_type": "markdown",
      "source": [
        "### 4.3 Split the data into train and test"
      ],
      "metadata": {
        "id": "4xmcOnxTRBse"
      },
      "id": "4xmcOnxTRBse"
    },
    {
      "cell_type": "code",
      "execution_count": null,
      "id": "5f911619",
      "metadata": {
        "id": "5f911619"
      },
      "outputs": [],
      "source": [
        "# Assuming X and y are your features and target variable\n",
        "# Split the data into 80% train and 20% test, stratifying by the target variable (y)\n",
        "X = data.drop(['y'],axis=1)\n",
        "y = data.y\n",
        "\n",
        "X_train, X_test, y_train, y_test = train_test_split(X, y, test_size=0.2, stratify=y, random_state=1234)\n"
      ]
    },
    {
      "cell_type": "markdown",
      "source": [
        "### 4.4 Seperate the numerical and catergorical columns for both train and test sets"
      ],
      "metadata": {
        "id": "K1T7Ifj5TYv4"
      },
      "id": "K1T7Ifj5TYv4"
    },
    {
      "cell_type": "code",
      "execution_count": null,
      "id": "4253ac44",
      "metadata": {
        "id": "4253ac44"
      },
      "outputs": [],
      "source": [
        "# Divide the dataset into numerical and categorical columns\n",
        "numerical_columns = ['age', 'balance', 'duration', 'campaign', 'pdays', 'previous']  # Numerical columns\n",
        "categorical_columns = list(set(train_data.columns) - set(numerical_columns) - {'y'})  # All remaining columns except the target\n",
        "\n",
        "# Separate numerical and categorical columns for train and test data\n",
        "train_numerical = X_train[numerical_columns]\n",
        "test_numerical = X_test[numerical_columns]\n",
        "\n",
        "train_categorical = X_train[categorical_columns]\n",
        "test_categorical = X_test[categorical_columns]\n"
      ]
    },
    {
      "cell_type": "markdown",
      "source": [
        "### 4.5 Standardize the numerical columns using StandardScaler()"
      ],
      "metadata": {
        "id": "165JmBMxTFMD"
      },
      "id": "165JmBMxTFMD"
    },
    {
      "cell_type": "code",
      "execution_count": null,
      "id": "e5fc3181",
      "metadata": {
        "id": "e5fc3181",
        "colab": {
          "base_uri": "https://localhost:8080/"
        },
        "outputId": "708af33c-896f-4f6a-b555-d9d826e693b8"
      },
      "outputs": [
        {
          "output_type": "stream",
          "name": "stdout",
          "text": [
            "(36168, 6) (9043, 6)\n"
          ]
        }
      ],
      "source": [
        "# Apply StandardScaler to numerical columns in train and test data\n",
        "from sklearn.preprocessing import StandardScaler\n",
        "\n",
        "# Apply StandardScaler on train data (fit and transform)\n",
        "scaler = StandardScaler()\n",
        "train_numerical_scaled = scaler.fit_transform(train_numerical)\n",
        "\n",
        "# Apply the scaler on test data (transform only)\n",
        "test_numerical_scaled = scaler.transform(test_numerical)\n",
        "print(train_numerical_scaled.shape, test_numerical_scaled.shape)"
      ]
    },
    {
      "cell_type": "markdown",
      "source": [
        "### 4.6 Encode the categorical columns using OneHotEncoder"
      ],
      "metadata": {
        "id": "cQj9s0o6Ue8r"
      },
      "id": "cQj9s0o6Ue8r"
    },
    {
      "cell_type": "code",
      "execution_count": null,
      "id": "d3a2441c",
      "metadata": {
        "id": "d3a2441c",
        "colab": {
          "base_uri": "https://localhost:8080/"
        },
        "outputId": "4e992e85-0632-4a5a-928a-a60328cb78c9"
      },
      "outputs": [
        {
          "output_type": "stream",
          "name": "stdout",
          "text": [
            "(36168, 65) (9043, 65)\n"
          ]
        }
      ],
      "source": [
        "# Import OneHotEncoder\n",
        "from sklearn.preprocessing import OneHotEncoder\n",
        "\n",
        "# Apply OneHotEncoder on train data (fit and transform)\n",
        "encoder = OneHotEncoder(sparse_output=False, drop='first')\n",
        "train_categorical_encoded = encoder.fit_transform(train_categorical)\n",
        "\n",
        "# Apply the encoder on test data (transform only)\n",
        "test_categorical_encoded = encoder.transform(test_categorical)\n",
        "print(train_categorical_encoded.shape, test_categorical_encoded.shape)"
      ]
    },
    {
      "cell_type": "markdown",
      "source": [
        "### 4.7 Combine the both numerical and categorical columns"
      ],
      "metadata": {
        "id": "qgE24GQYVCuY"
      },
      "id": "qgE24GQYVCuY"
    },
    {
      "cell_type": "code",
      "execution_count": null,
      "id": "f5e60353",
      "metadata": {
        "id": "f5e60353",
        "colab": {
          "base_uri": "https://localhost:8080/"
        },
        "outputId": "b6cafa84-f773-498e-e871-dc27a6db283b"
      },
      "outputs": [
        {
          "output_type": "stream",
          "name": "stdout",
          "text": [
            "        age   balance  duration  campaign    pdays  previous  month_aug  \\\n",
            "0  0.096928 -0.719591 -0.607353  1.058652 -0.41086 -0.299403        1.0   \n",
            "1 -0.935983 -0.567416  0.588283 -0.571902 -0.41086 -0.299403        0.0   \n",
            "2  1.599345  1.945311 -0.837133  0.732541 -0.41086 -0.299403        0.0   \n",
            "3 -0.090874 -0.451536  0.078093 -0.571902 -0.41086 -0.299403        0.0   \n",
            "4 -1.123785 -0.397925  0.140406 -0.571902 -0.41086 -0.299403        0.0   \n",
            "\n",
            "   month_dec  month_feb  month_jan  month_jul  month_jun  month_mar  \\\n",
            "0        0.0        0.0        0.0        0.0        0.0        0.0   \n",
            "1        0.0        0.0        0.0        0.0        0.0        0.0   \n",
            "2        0.0        0.0        0.0        0.0        0.0        0.0   \n",
            "3        0.0        1.0        0.0        0.0        0.0        0.0   \n",
            "4        0.0        0.0        0.0        1.0        0.0        0.0   \n",
            "\n",
            "   month_may  month_nov  ...  marital_single  housing_yes  contact_telephone  \\\n",
            "0        0.0        0.0  ...             0.0          0.0                0.0   \n",
            "1        1.0        0.0  ...             1.0          1.0                0.0   \n",
            "2        1.0        0.0  ...             0.0          1.0                0.0   \n",
            "3        0.0        0.0  ...             0.0          1.0                0.0   \n",
            "4        0.0        0.0  ...             1.0          0.0                0.0   \n",
            "\n",
            "   contact_unknown  job_blue-collar  job_entrepreneur  job_housemaid  \\\n",
            "0              0.0              0.0               0.0            0.0   \n",
            "1              0.0              0.0               0.0            0.0   \n",
            "2              1.0              0.0               1.0            0.0   \n",
            "3              0.0              0.0               0.0            0.0   \n",
            "4              0.0              1.0               0.0            0.0   \n",
            "\n",
            "   job_management  job_retired  job_self-employed  job_services  job_student  \\\n",
            "0             0.0          0.0                0.0           0.0          0.0   \n",
            "1             0.0          0.0                0.0           0.0          0.0   \n",
            "2             0.0          0.0                0.0           0.0          0.0   \n",
            "3             1.0          0.0                0.0           0.0          0.0   \n",
            "4             0.0          0.0                0.0           0.0          0.0   \n",
            "\n",
            "   job_technician  job_unemployed  job_unknown  \n",
            "0             1.0             0.0          0.0  \n",
            "1             1.0             0.0          0.0  \n",
            "2             0.0             0.0          0.0  \n",
            "3             0.0             0.0          0.0  \n",
            "4             0.0             0.0          0.0  \n",
            "\n",
            "[5 rows x 71 columns] (36168, 71)\n"
          ]
        }
      ],
      "source": [
        "# Combine numerical and categorical columns in train and test data\n",
        "train_final = np.hstack([train_numerical_scaled, train_categorical_encoded])\n",
        "test_final = np.hstack([test_numerical_scaled, test_categorical_encoded])\n",
        "\n",
        "# Convert the final train and test sets to DataFrames\n",
        "X_train = pd.DataFrame(train_final, columns=numerical_columns + list(encoder.get_feature_names_out(categorical_columns)))\n",
        "X_test = pd.DataFrame(test_final, columns=numerical_columns + list(encoder.get_feature_names_out(categorical_columns)))\n",
        "\n",
        "# Display the first few rows of the final processed training set\n",
        "print(X_train.head(),\n",
        "X_train.shape)"
      ]
    },
    {
      "cell_type": "markdown",
      "source": [
        "### 4.8 Encode the target variable (`yes: 1` , `no: 0`)\n"
      ],
      "metadata": {
        "id": "2R4NBmmpVf_0"
      },
      "id": "2R4NBmmpVf_0"
    },
    {
      "cell_type": "code",
      "execution_count": null,
      "id": "1fd84d44",
      "metadata": {
        "id": "1fd84d44"
      },
      "outputs": [],
      "source": [
        "# Encode the target variable in the training set\n",
        "y_train = y_train.apply(lambda x: 1 if x == 'yes' else 0)\n",
        "\n",
        "# Encode the target variable in the test set\n",
        "y_test = y_test.apply(lambda x: 1 if x == 'yes' else 0)"
      ]
    },
    {
      "cell_type": "markdown",
      "source": [
        "### 4.9 Display the shape of the train sets and test sets"
      ],
      "metadata": {
        "id": "x8VpRrkIWFs6"
      },
      "id": "x8VpRrkIWFs6"
    },
    {
      "cell_type": "code",
      "execution_count": null,
      "id": "ac0d558e",
      "metadata": {
        "id": "ac0d558e",
        "outputId": "9b0124a3-35e0-432f-d32d-f2a3e37f610c",
        "colab": {
          "base_uri": "https://localhost:8080/"
        }
      },
      "outputs": [
        {
          "output_type": "stream",
          "name": "stdout",
          "text": [
            "(36168, 71) (36168,) (9043, 71) (9043,)\n"
          ]
        }
      ],
      "source": [
        "# Display the shape of sets\n",
        "print(X_train.shape, y_train.shape, X_test.shape, y_test.shape)"
      ]
    },
    {
      "cell_type": "markdown",
      "source": [
        "# Step 5: Model Building"
      ],
      "metadata": {
        "id": "fhDDrWGdWT8h"
      },
      "id": "fhDDrWGdWT8h"
    },
    {
      "cell_type": "markdown",
      "source": [
        "### 5.1 Build a Logistic Regression Model"
      ],
      "metadata": {
        "id": "SIVMhUUVWdBD"
      },
      "id": "SIVMhUUVWdBD"
    },
    {
      "cell_type": "markdown",
      "source": [
        "Build a Logistic regression model and check the model performance using precision, recall, F1 score, and the AUC from ROC curve with default threshold. Write your observations based on the result."
      ],
      "metadata": {
        "id": "8gisx57pWg6W"
      },
      "id": "8gisx57pWg6W"
    },
    {
      "cell_type": "code",
      "execution_count": null,
      "id": "355329ba",
      "metadata": {
        "id": "355329ba",
        "outputId": "aaef4197-3b2b-4427-9d2a-9fbff2878939",
        "colab": {
          "base_uri": "https://localhost:8080/"
        }
      },
      "outputs": [
        {
          "output_type": "stream",
          "name": "stdout",
          "text": [
            "Precision: 0.6721\n",
            "Recall: 0.3526\n",
            "F1 Score: 0.4625\n",
            "AUC: 0.9118\n"
          ]
        }
      ],
      "source": [
        "# Import LogisticRegression, required metrics\n",
        "from sklearn.linear_model import LogisticRegression\n",
        "from sklearn.metrics import precision_score, recall_score, f1_score, roc_auc_score, roc_curve\n",
        "\n",
        "# Step 1: Train a Logistic Regression model\n",
        "logistic_model = LogisticRegression(max_iter=1000, random_state=1234)\n",
        "logistic_model.fit(X_train, y_train)\n",
        "\n",
        "# Step 2: Predict probabilities for the test set (to calculate AUC later)\n",
        "y_proba = logistic_model.predict_proba(X_test)[:, 1]\n",
        "\n",
        "# Step 3: Make predictions using the default threshold (0.5)\n",
        "y_pred = logistic_model.predict(X_test)\n",
        "\n",
        "# Step 4: Calculate Precision, Recall, and F1 Score\n",
        "precision = precision_score(y_test, y_pred)\n",
        "recall = recall_score(y_test, y_pred)\n",
        "f1 = f1_score(y_test, y_pred)\n",
        "\n",
        "# Step 5: Calculate AUC (Area Under the ROC Curve)\n",
        "roc_auc = roc_auc_score(y_test, y_proba)\n",
        "\n",
        "# Step 6: Print the evaluation metrics\n",
        "print(f\"Precision: {precision:.4f}\")\n",
        "print(f\"Recall: {recall:.4f}\")\n",
        "print(f\"F1 Score: {f1:.4f}\")\n",
        "print(f\"AUC: {roc_auc:.4f}\")\n"
      ]
    },
    {
      "cell_type": "markdown",
      "id": "c2c873ce",
      "metadata": {
        "id": "c2c873ce"
      },
      "source": [
        "#### Interpretation:\n",
        "The logistic regression model's results show the following:\n",
        "\n",
        "- Precision (0.6721): 67.21% of the instances predicted as positive are actually positive, indicating that the model is fairly good at minimizing false positives.\n",
        "- Recall (0.3526): The model correctly identifies only 35.26% of the actual positive cases, meaning many true positives are missed, leading to high false negatives.\n",
        "- F1 Score (0.4625): The F1 score is a balance between precision and recall, indicating that overall, the model struggles to perform well due to low recall.\n",
        "- AUC (0.9119): A high AUC (91.19%) indicates that the model has a strong ability to distinguish between positive and negative classes, even though recall is low.\n",
        "- In summary, the model is good at identifying true positives when it predicts them (high precision), but it misses many actual positives (low recall), and while the model has a high AUC, it needs improvement in recall for better overall performance"
      ]
    },
    {
      "cell_type": "markdown",
      "id": "15b2238a",
      "metadata": {
        "id": "15b2238a"
      },
      "source": [
        "### 5.2 Build a Logistic Regression Model with Optimal Threshold\n"
      ]
    },
    {
      "cell_type": "markdown",
      "source": [
        "Build a logisitc model with optimal threshold and check perfomrance based on above-mentioned metrics. Mention your observations on the recall and F1-Score along with other metrics(use `class_weight` = 'balanced')"
      ],
      "metadata": {
        "id": "vPXSwWAOW_4j"
      },
      "id": "vPXSwWAOW_4j"
    },
    {
      "cell_type": "code",
      "execution_count": null,
      "id": "7b45eda7",
      "metadata": {
        "id": "7b45eda7",
        "outputId": "91fac3b6-2383-4556-d0fd-d1a79a5e94ce",
        "colab": {
          "base_uri": "https://localhost:8080/",
          "height": 559
        }
      },
      "outputs": [
        {
          "output_type": "stream",
          "name": "stdout",
          "text": [
            "Optimal Threshold: 0.4311\n",
            "Precision with Optimal Threshold: 0.3962\n",
            "Recall with Optimal Threshold: 0.8658\n",
            "F1 Score with Optimal Threshold: 0.5436\n",
            "AUC: 0.9149\n"
          ]
        },
        {
          "output_type": "display_data",
          "data": {
            "text/plain": [
              "<Figure size 640x480 with 1 Axes>"
            ],
            "image/png": "[encoded data removed]"
          },
          "metadata": {}
        }
      ],
      "source": [
        "from sklearn.linear_model import LogisticRegression\n",
        "from sklearn.metrics import precision_score, recall_score, f1_score, roc_auc_score, roc_curve\n",
        "\n",
        "# Step 1: Train a Logistic Regression model\n",
        "logistic_model = LogisticRegression(max_iter=1000, random_state=1234, class_weight='balanced')\n",
        "logistic_model.fit(X_train, y_train)\n",
        "\n",
        "# Step 2: Predict probabilities for the test set (to calculate AUC and ROC curve)\n",
        "y_proba = logistic_model.predict_proba(X_test)[:, 1]\n",
        "\n",
        "# Step 3: Compute ROC curve and find the optimal threshold\n",
        "fpr, tpr, thresholds = roc_curve(y_test, y_proba)\n",
        "\n",
        "# Optimal threshold: the one that maximizes the difference between true positive rate and false positive rate\n",
        "optimal_idx = np.argmax(tpr - fpr)\n",
        "optimal_threshold = thresholds[optimal_idx]\n",
        "print(f\"Optimal Threshold: {optimal_threshold:.4f}\")\n",
        "\n",
        "# Step 4: Make predictions using the optimal threshold\n",
        "y_pred_optimal = (y_proba >= optimal_threshold).astype(int)\n",
        "\n",
        "# Step 5: Calculate Precision, Recall, and F1 Score with the optimal threshold\n",
        "precision_optimal = precision_score(y_test, y_pred_optimal)\n",
        "recall_optimal = recall_score(y_test, y_pred_optimal)\n",
        "f1_optimal = f1_score(y_test, y_pred_optimal)\n",
        "\n",
        "# Step 6: Calculate AUC (Area Under the ROC Curve)\n",
        "roc_auc = roc_auc_score(y_test, y_proba)\n",
        "\n",
        "# Step 7: Print the evaluation metrics\n",
        "print(f\"Precision with Optimal Threshold: {precision_optimal:.4f}\")\n",
        "print(f\"Recall with Optimal Threshold: {recall_optimal:.4f}\")\n",
        "print(f\"F1 Score with Optimal Threshold: {f1_optimal:.4f}\")\n",
        "print(f\"AUC: {roc_auc:.4f}\")\n",
        "\n",
        "#Step 8: Plot\n",
        "# Step 5: Plot the ROC curve\n",
        "plt.plot(fpr, tpr, label=f\"Logistic Regression (AUC = {roc_auc:.2f})\")\n",
        "plt.plot([0, 1], [0, 1], linestyle='--', color='gray')  # Diagonal line for random guessing\n",
        "plt.xlabel('False Positive Rate')\n",
        "plt.ylabel('True Positive Rate')\n",
        "plt.title('ROC Curve')\n",
        "plt.legend(loc=\"best\")\n",
        "plt.show()\n"
      ]
    },
    {
      "cell_type": "markdown",
      "id": "61e880e0",
      "metadata": {
        "id": "61e880e0"
      },
      "source": [
        "#### Interpretation:\n",
        "- The probability threshold chosen is around 0.43, slightly lower than the default value of 0.5\n",
        "- Compared to the above model precision has come down from 67% to around 40%, but recall improved from 35% to around 86% which is huge, interms of predicting potential loan-takers correctly, pushing the F1 score to 54% from 46%."
      ]
    },
    {
      "cell_type": "markdown",
      "id": "fee8d108",
      "metadata": {
        "id": "fee8d108"
      },
      "source": [
        "### 5.3 Build a KNN Model with k=5\n",
        "\n",
        "Build a KNN model with k=5 and check the model performance using precision, recall, F1 score, write your observations on the metrics"
      ]
    },
    {
      "cell_type": "code",
      "execution_count": null,
      "id": "39d8e7b3",
      "metadata": {
        "id": "39d8e7b3",
        "outputId": "90ec4048-a35c-453e-f472-cb51488c84a2",
        "colab": {
          "base_uri": "https://localhost:8080/"
        }
      },
      "outputs": [
        {
          "output_type": "stream",
          "name": "stdout",
          "text": [
            "Precision: 0.5902\n",
            "Recall: 0.3431\n",
            "F1 Score: 0.4340\n"
          ]
        }
      ],
      "source": [
        "# Import KNeighborsClassifier\n",
        "from sklearn.neighbors import KNeighborsClassifier\n",
        "from sklearn.metrics import precision_score, recall_score, f1_score, roc_auc_score, roc_curve\n",
        "import matplotlib.pyplot as plt\n",
        "\n",
        "# Make the train and test sets are in array format\n",
        "X_train=np.array(X_train)\n",
        "X_test=np.array(X_test)\n",
        "\n",
        "# Step 1: Initialize and train the KNN model\n",
        "knn_model = KNeighborsClassifier(n_neighbors=5)  # You can adjust the number of neighbors (k)\n",
        "knn_model.fit(X_train, y_train)\n",
        "\n",
        "# Step 2: Predict probabilities for the test set (to calculate AUC later)\n",
        "y_proba_knn = knn_model.predict_proba(X_test)[:, 1]\n",
        "\n",
        "# Step 3: Make predictions using the default threshold (0.5)\n",
        "y_pred_knn = knn_model.predict(X_test)\n",
        "\n",
        "# Step 4: Calculate Precision, Recall, and F1 Score\n",
        "precision_knn = precision_score(y_test, y_pred_knn)\n",
        "recall_knn = recall_score(y_test, y_pred_knn)\n",
        "f1_knn = f1_score(y_test, y_pred_knn)\n",
        "\n",
        "\n",
        "# Step 6: Print the evaluation metrics\n",
        "print(f\"Precision: {precision_knn:.4f}\")\n",
        "print(f\"Recall: {recall_knn:.4f}\")\n",
        "print(f\"F1 Score: {f1_knn:.4f}\")\n"
      ]
    },
    {
      "cell_type": "markdown",
      "id": "90c37ec3",
      "metadata": {
        "id": "90c37ec3"
      },
      "source": [
        "#### Interpretation:\n",
        "with k = 5, precision is around 60%, and recall is poor with 34%, pulling F1 score down to 43%."
      ]
    },
    {
      "cell_type": "markdown",
      "id": "5a00ca05",
      "metadata": {
        "id": "5a00ca05"
      },
      "source": [
        "### 5.4 Build a KNN Model with k=5 with a balanced set\n",
        "\n",
        "#####  SMOTE the data to address class imbalance and build a KNN model with k=5 and check the model performance using precision, recall, F1 score; Compare the reuslts with the previous results and write your observations."
      ]
    },
    {
      "cell_type": "code",
      "execution_count": null,
      "id": "658445eb",
      "metadata": {
        "id": "658445eb",
        "outputId": "4a772aff-742d-4bd1-afaa-aefa1d8e575b",
        "colab": {
          "base_uri": "https://localhost:8080/"
        }
      },
      "outputs": [
        {
          "output_type": "stream",
          "name": "stdout",
          "text": [
            "Precision: 0.4006\n",
            "Recall: 0.7826\n",
            "F1 Score: 0.5299\n"
          ]
        }
      ],
      "source": [
        "from imblearn.over_sampling import SMOTE\n",
        "from sklearn.neighbors import KNeighborsClassifier\n",
        "from sklearn.metrics import precision_score, recall_score, f1_score\n",
        "import numpy as np\n",
        "\n",
        "# Step 1: Apply SMOTE to the training data\n",
        "smote = SMOTE(random_state=1234)\n",
        "\n",
        "# Resample X_train and y_train\n",
        "X_train_smote, y_train_smote = smote.fit_resample(X_train, y_train)\n",
        "\n",
        "# Convert the resampled data to NumPy arrays (if they are not already)\n",
        "X_train_smote = np.array(X_train_smote)\n",
        "X_test = np.array(X_test)\n",
        "\n",
        "# Step 2: Initialize and train the KNN model\n",
        "knn_model = KNeighborsClassifier(n_neighbors=5)\n",
        "knn_model.fit(X_train_smote, y_train_smote)\n",
        "\n",
        "# Step 3: Make predictions on the test set\n",
        "y_pred_knn = knn_model.predict(X_test)\n",
        "\n",
        "# Step 4: Calculate Precision, Recall, and F1 Score\n",
        "precision_knn = precision_score(y_test, y_pred_knn)\n",
        "recall_knn = recall_score(y_test, y_pred_knn)\n",
        "f1_knn = f1_score(y_test, y_pred_knn)\n",
        "\n",
        "# Step 5: Print the evaluation metrics\n",
        "print(f\"Precision: {precision_knn:.4f}\")\n",
        "print(f\"Recall: {recall_knn:.4f}\")\n",
        "print(f\"F1 Score: {f1_knn:.4f}\")\n"
      ]
    },
    {
      "cell_type": "markdown",
      "id": "0c409197",
      "metadata": {
        "id": "0c409197"
      },
      "source": [
        "#### Interpretation:\n",
        "- The KNN model without SMOTE shows a precision of 59.02%, but recall is relatively low at 34.31%, indicating that the model is good at minimizing false positives but struggles to capture true positives, leading to a lower F1-score of 43.40%.\n",
        "- After applying SMOTE, precision dropped to 39.99%, but recall significantly improved to 78.17%, showing the model's enhanced ability to identify true positives. This increase in recall leads to a higher F1-score of 52.91%, indicating a better balance between precision and recall with the use of SMOTE."
      ]
    },
    {
      "cell_type": "markdown",
      "id": "f5522c68",
      "metadata": {
        "id": "f5522c68"
      },
      "source": [
        "### 5.5 Build a Random forest model with n_estimators=10 and balanced class weight\n",
        "\n",
        "#####  Build a Random forest with the given specifications and check the model performance using precision, recall, F1 score; Obtain the training set and test set metrics and write your observations."
      ]
    },
    {
      "cell_type": "code",
      "execution_count": null,
      "id": "78162e75",
      "metadata": {
        "id": "78162e75",
        "outputId": "e64289ef-95e2-431f-b8f6-6d42d952d2d3",
        "colab": {
          "base_uri": "https://localhost:8080/"
        }
      },
      "outputs": [
        {
          "output_type": "stream",
          "name": "stdout",
          "text": [
            "\n",
            "Training Set Metrics:\n",
            "Precision: 0.9967\n",
            "Recall: 0.9296\n",
            "F1 Score: 0.9620\n",
            "\n",
            "Test Set Metrics:\n",
            "Precision: 0.6555\n",
            "Recall: 0.3147\n",
            "F1 Score: 0.4253\n"
          ]
        }
      ],
      "source": [
        "from sklearn.ensemble import RandomForestClassifier\n",
        "from sklearn.metrics import precision_score, recall_score, f1_score\n",
        "\n",
        "# Step 1: Initialize and train the Random Forest model with n_estimators=10\n",
        "rf_model = RandomForestClassifier(n_estimators=10, random_state=1234, class_weight='balanced')\n",
        "rf_model.fit(X_train, y_train)\n",
        "\n",
        "# Step 2: Make predictions on the test set\n",
        "y_pred_rf_test = rf_model.predict(X_test)\n",
        "\n",
        "# Step 3: Make predictions on the training set\n",
        "y_pred_rf_train = rf_model.predict(X_train)\n",
        "\n",
        "# Step 4: Calculate Precision, Recall, and F1 Score for the test set\n",
        "precision_rf_test = precision_score(y_test, y_pred_rf_test)\n",
        "recall_rf_test = recall_score(y_test, y_pred_rf_test)\n",
        "f1_rf_test = f1_score(y_test, y_pred_rf_test)\n",
        "\n",
        "# Step 5: Calculate Precision, Recall, and F1 Score for the training set\n",
        "precision_rf_train = precision_score(y_train, y_pred_rf_train)\n",
        "recall_rf_train = recall_score(y_train, y_pred_rf_train)\n",
        "f1_rf_train = f1_score(y_train, y_pred_rf_train)\n",
        "\n",
        "# Step 6: Print the evaluation metrics for the training set\n",
        "print(\"\\nTraining Set Metrics:\")\n",
        "print(f\"Precision: {precision_rf_train:.4f}\")\n",
        "print(f\"Recall: {recall_rf_train:.4f}\")\n",
        "print(f\"F1 Score: {f1_rf_train:.4f}\")\n",
        "\n",
        "# Step 7: Print the evaluation metrics for the test set\n",
        "print(\"\\nTest Set Metrics:\")\n",
        "print(f\"Precision: {precision_rf_test:.4f}\")\n",
        "print(f\"Recall: {recall_rf_test:.4f}\")\n",
        "print(f\"F1 Score: {f1_rf_test:.4f}\")\n"
      ]
    },
    {
      "cell_type": "markdown",
      "id": "77c77306",
      "metadata": {
        "id": "77c77306"
      },
      "source": [
        "#### Interpretation:\n",
        "\n",
        "- The training set metrics show almost perfect precision (99.85%) and high recall (92.51%), resulting in a strong F1-score of 96.04%, indicating that the model is highly fit on the training data.\n",
        "- However, on the test set, precision drops to 67.42% and recall further decreases to 31.10%, leading to a lower F1-score of 42.56%.\n",
        "- This suggests that the model is overfitting on the training data and generalizing poorly to the test data, as indicated by the significant drop in performance metrics from the training to test set."
      ]
    },
    {
      "cell_type": "markdown",
      "id": "35977c89",
      "metadata": {
        "id": "35977c89"
      },
      "source": [
        "### 5.6 Build a Random forest model with the following parameter grid and balanced class weight\n",
        "##### param_grid:\n",
        "\n",
        "```\n",
        "'n_estimators': [100,200],          \n",
        "'max_depth': [10,20,30],        \n",
        "'min_samples_split': [2,5,10]\n",
        "```\n",
        "\n",
        "\n",
        "\n",
        "#####  Build a Random forest with the given specifications and check the model performance using precision, recall, F1 score; Obtain the test set metrics and compare it with the previous model results."
      ]
    },
    {
      "cell_type": "code",
      "execution_count": null,
      "id": "5f40bd74",
      "metadata": {
        "id": "5f40bd74",
        "outputId": "8badb5d9-5de2-4348-d068-59f2c507204a"
      },
      "outputs": [
        {
          "name": "stdout",
          "output_type": "stream",
          "text": [
            "Fitting 5 folds for each of 18 candidates, totalling 90 fits\n",
            "Best Parameters: {'max_depth': 20, 'min_samples_split': 10, 'n_estimators': 200}\n",
            "Best Model Precision: 0.5244\n",
            "Best Model Recall: 0.7609\n",
            "Best Model F1 Score: 0.6209\n"
          ]
        }
      ],
      "source": [
        "from sklearn.ensemble import RandomForestClassifier\n",
        "from sklearn.model_selection import GridSearchCV\n",
        "from sklearn.metrics import precision_score, recall_score, f1_score\n",
        "\n",
        "# Step 1: Define the hyperparameter grid\n",
        "param_grid = {\n",
        "    'n_estimators': [100,200],          # Number of trees\n",
        "    'max_depth': [10, 20, 30],        # Maximum depth of each tree\n",
        "    'min_samples_split': [2, 5, 10]         # Minimum samples required to split a node\n",
        "}\n",
        "\n",
        "# Step 2: Initialize the Random Forest model\n",
        "rf_model = RandomForestClassifier(random_state=1234, class_weight='balanced')\n",
        "\n",
        "# Step 3: Set up GridSearchCV\n",
        "grid_search = GridSearchCV(estimator=rf_model, param_grid=param_grid,\n",
        "                           cv=5, scoring='f1', verbose=1, n_jobs=-1)\n",
        "\n",
        "# Step 4: Fit the GridSearchCV on the training data\n",
        "grid_search.fit(X_train, y_train)\n",
        "\n",
        "# Step 5: Get the best parameters and best estimator\n",
        "best_params = grid_search.best_params_\n",
        "best_rf_model = grid_search.best_estimator_\n",
        "\n",
        "print(f\"Best Parameters: {best_params}\")\n",
        "\n",
        "# Step 6: Make predictions on the test set using the best model\n",
        "y_pred_rf_best = best_rf_model.predict(X_test)\n",
        "\n",
        "# Step 7: Calculate Precision, Recall, and F1 Score for the best model\n",
        "precision_rf_best = precision_score(y_test, y_pred_rf_best)\n",
        "recall_rf_best = recall_score(y_test, y_pred_rf_best)\n",
        "f1_rf_best = f1_score(y_test, y_pred_rf_best)\n",
        "\n",
        "\n",
        "# Step 8: Print the evaluation metrics\n",
        "print(f\"Best Model Precision: {precision_rf_best:.4f}\")\n",
        "print(f\"Best Model Recall: {recall_rf_best:.4f}\")\n",
        "print(f\"Best Model F1 Score: {f1_rf_best:.4f}\")\n"
      ]
    },
    {
      "cell_type": "markdown",
      "id": "8693ba07",
      "metadata": {
        "id": "8693ba07"
      },
      "source": [
        "#### Interpretation:\n",
        "\n",
        "- The best parameters from the grid search are: max_depth=20, min_samples_split=10, and n_estimators=200.\n",
        "- The model achieved a precision of 52.44%, a recall of 76.09%, and an F1-score of 62.09%.\n",
        "- Compared to the previous model, this model demonstrates improved recall but a slight drop in precision. However, the overall F1-score has improved, indicating a better balance between precision and recall. This suggests that the tuned parameters, especially the increased depth, allow the model to better capture the minority class while still performing adequately with precision."
      ]
    },
    {
      "cell_type": "markdown",
      "id": "6561a09d",
      "metadata": {
        "id": "6561a09d"
      },
      "source": [
        "### 5.7 Build a XGBoost model\n",
        "\n",
        "#####  Build a default XGBoost model and check the model performance using precision, recall, F1 score for training and test sets; Give your comments ."
      ]
    },
    {
      "cell_type": "code",
      "execution_count": null,
      "id": "45ccf697",
      "metadata": {
        "id": "45ccf697",
        "outputId": "b10a61b7-cf3a-472a-8ffa-0718b6aba56d"
      },
      "outputs": [
        {
          "name": "stdout",
          "output_type": "stream",
          "text": [
            "\n",
            "Training Set Metrics:\n",
            "Precision (Train): 0.8727\n",
            "Recall (Train): 0.6937\n",
            "F1 Score (Train): 0.7730\n",
            "Test Set Metrics:\n",
            "Precision (Test): 0.6444\n",
            "Recall (Test): 0.4745\n",
            "F1 Score (Test): 0.5465\n"
          ]
        }
      ],
      "source": [
        "import xgboost as xgb\n",
        "\n",
        "# Step 1: Initialize and train the XGBoost model\n",
        "xgb_model = xgb.XGBClassifier(random_state=1234)\n",
        "\n",
        "# Step 2: Train the model\n",
        "xgb_model.fit(X_train, y_train)\n",
        "\n",
        "# Step 3: Make predictions on the test set\n",
        "y_pred_xgb_test = xgb_model.predict(X_test)\n",
        "\n",
        "# Step 4: Make predictions on the training set\n",
        "y_pred_xgb_train = xgb_model.predict(X_train)\n",
        "\n",
        "# Step 5: Calculate Precision, Recall, and F1 Score for the test set\n",
        "precision_xgb_test = precision_score(y_test, y_pred_xgb_test)\n",
        "recall_xgb_test = recall_score(y_test, y_pred_xgb_test)\n",
        "f1_xgb_test = f1_score(y_test, y_pred_xgb_test)\n",
        "\n",
        "# Step 6: Calculate Precision, Recall, and F1 Score for the training set\n",
        "precision_xgb_train = precision_score(y_train, y_pred_xgb_train)\n",
        "recall_xgb_train = recall_score(y_train, y_pred_xgb_train)\n",
        "f1_xgb_train = f1_score(y_train, y_pred_xgb_train)\n",
        "\n",
        "# Step 7: Print the evaluation metrics for the training set\n",
        "print(\"\\nTraining Set Metrics:\")\n",
        "print(f\"Precision (Train): {precision_xgb_train:.4f}\")\n",
        "print(f\"Recall (Train): {recall_xgb_train:.4f}\")\n",
        "print(f\"F1 Score (Train): {f1_xgb_train:.4f}\")\n",
        "\n",
        "\n",
        "# Step 8: Print the evaluation metrics for the test set\n",
        "print(\"Test Set Metrics:\")\n",
        "print(f\"Precision (Test): {precision_xgb_test:.4f}\")\n",
        "print(f\"Recall (Test): {recall_xgb_test:.4f}\")\n",
        "print(f\"F1 Score (Test): {f1_xgb_test:.4f}\")\n",
        "\n"
      ]
    },
    {
      "cell_type": "markdown",
      "id": "6a471572",
      "metadata": {
        "id": "6a471572"
      },
      "source": [
        "#### Interpretation:\n",
        "\n",
        "While the model performs well on the training set, the drop in test set performance implies that further tuning (e.g., regularization or parameter tuning) might be needed to improve its generalization. The test set results indicate room for improvement, particularly in recall, as the model misses a fair portion of actual positives."
      ]
    },
    {
      "cell_type": "markdown",
      "id": "af752029",
      "metadata": {
        "id": "af752029"
      },
      "source": [
        "### 5.8 XGBoost model with hyper parameter tuning\n",
        "\n",
        "#####  Build a XGBoost model with the following parameter grid and check the model performance using precision, recall, F1 score on test set; Compare your result with the default XGBoost model .\n",
        "\n",
        "#### Hyperparameter grid:\n",
        "    - 'n_estimators': [50, 100, 200, 300],                 \n",
        "    - 'learning_rate': [0.01, 0.1, 0.2, 0.3],              \n",
        "    - 'max_depth': [None, 3, 5, 7, 10],                          \n",
        "    - 'min_child_weight': [1, 3, 5],                      \n",
        "    - 'subsample': [0.2, 0.6, 0.8, 1.0],                        \n",
        "    - 'colsample_bytree': [0.6, 0.8, 1.0],                 \n",
        "    - 'gamma': [0, 0.1, 0.3, 0.5]                          "
      ]
    },
    {
      "cell_type": "code",
      "execution_count": null,
      "id": "7cc3164c",
      "metadata": {
        "id": "7cc3164c",
        "outputId": "28dfdbb4-2401-43ec-bd2c-eccabb4cf51b",
        "colab": {
          "base_uri": "https://localhost:8080/"
        }
      },
      "outputs": [
        {
          "output_type": "stream",
          "name": "stdout",
          "text": [
            "Fitting 5 folds for each of 50 candidates, totalling 250 fits\n"
          ]
        },
        {
          "output_type": "stream",
          "name": "stderr",
          "text": [
            "/usr/local/lib/python3.10/dist-packages/xgboost/core.py:158: UserWarning: [08:33:38] WARNING: /workspace/src/learner.cc:740: \n",
            "Parameters: { \"use_label_encoder\" } are not used.\n",
            "\n",
            "  warnings.warn(smsg, UserWarning)\n"
          ]
        },
        {
          "output_type": "stream",
          "name": "stdout",
          "text": [
            "Best Parameters: {'subsample': 0.8, 'n_estimators': 300, 'min_child_weight': 1, 'max_depth': 7, 'learning_rate': 0.1, 'gamma': 0.3, 'colsample_bytree': 1.0}\n",
            "Best Model Precision: 0.5167\n",
            "Best Model Recall: 0.7892\n",
            "Best Model F1 Score: 0.6245\n"
          ]
        }
      ],
      "source": [
        "import xgboost as xgb\n",
        "from sklearn.model_selection import RandomizedSearchCV\n",
        "from sklearn.metrics import precision_score, recall_score, f1_score\n",
        "import numpy as np\n",
        "\n",
        "# Step 1: Define the hyperparameter grid\n",
        "param_dist = {\n",
        "    'n_estimators': [50, 100, 200, 300],                 # Number of trees\n",
        "    'learning_rate': [0.01, 0.1, 0.2, 0.3],              # Learning rate\n",
        "    'max_depth': [None, 3, 5, 7, 10],                          # Maximum depth of each tree\n",
        "    'min_child_weight': [1, 3, 5],                       # Minimum sum of instance weight (hessian) needed in a child\n",
        "    'subsample': [0.2, 0.6, 0.8, 1.0],                        # Subsample ratio of the training instance\n",
        "    'colsample_bytree': [0.6, 0.8, 1.0],                 # Subsample ratio of columns when constructing each tree\n",
        "    'gamma': [0, 0.1, 0.3, 0.5]                          # Minimum loss reduction required to make a further partition on a leaf node\n",
        "}\n",
        "\n",
        "neg_count = (y_train == 0).sum()\n",
        "pos_count = (y_train == 1).sum()\n",
        "scale_pos_weight = neg_count / pos_count\n",
        "\n",
        "# Step 2: Initialize the XGBoost model\n",
        "xgb_model = xgb.XGBClassifier(random_state=1234, use_label_encoder=False,\n",
        "                              scale_pos_weight=8, eval_metric='logloss')\n",
        "\n",
        "# Step 3: Set up the RandomizedSearchCV\n",
        "random_search = RandomizedSearchCV(estimator=xgb_model, param_distributions=param_dist,\n",
        "                                   n_iter=50, scoring='f1', cv=5, verbose=1, n_jobs=-1, random_state=42)\n",
        "\n",
        "# Step 4: Fit the RandomizedSearchCV on the training data\n",
        "random_search.fit(X_train, y_train)\n",
        "\n",
        "# Step 5: Get the best parameters and best estimator\n",
        "best_params = random_search.best_params_\n",
        "best_xgb_model = random_search.best_estimator_\n",
        "\n",
        "print(f\"Best Parameters: {best_params}\")\n",
        "\n",
        "# Step 6: Make predictions on the test set using the best model\n",
        "y_pred_xgb_best = best_xgb_model.predict(X_test)\n",
        "\n",
        "# Step 7: Calculate Precision, Recall, and F1 Score for the best model\n",
        "precision_xgb_best = precision_score(y_test, y_pred_xgb_best)\n",
        "recall_xgb_best = recall_score(y_test, y_pred_xgb_best)\n",
        "f1_xgb_best = f1_score(y_test, y_pred_xgb_best)\n",
        "\n",
        "# Step 8: Print the evaluation metrics\n",
        "print(f\"Best Model Precision: {precision_xgb_best:.4f}\")\n",
        "print(f\"Best Model Recall: {recall_xgb_best:.4f}\")\n",
        "print(f\"Best Model F1 Score: {f1_xgb_best:.4f}\")\n"
      ]
    },
    {
      "cell_type": "markdown",
      "id": "e976e523",
      "metadata": {
        "id": "e976e523"
      },
      "source": [
        "#### Interpretation:\n",
        "- Best Model: After hyperparameter tuning, the XGBoost model achieved a precision of 51.18%, recall of 77.88%, and an F1-score of 61.77%.\n",
        "\n",
        "- Comparison with Default XGBoost: Compared to the default XGBoost model (which had a precision of 64.45%, recall of 47.45%, and F1-score of 54.65%), the tuned model shows a significant improvement in recall (from 47.45% to 77.88%), indicating that it is much better at identifying true positives. However, there is a drop in precision (from 64.45% to 51.18%), meaning that the tuned model is predicting more false positives.\n",
        "\n",
        "- Conclusion: The hyperparameter tuning improved the model’s overall balance, as reflected by the increase in the F1-score from 54.65% to 61.77%, showing that the tuned model performs better in general by achieving a better trade-off between precision and recall."
      ]
    },
    {
      "cell_type": "markdown",
      "id": "827c2aad",
      "metadata": {
        "id": "827c2aad"
      },
      "source": [
        "### 5.9 XGBoost model with hyper parameter tuning and SMOTE\n",
        "\n",
        "#####  Build a XGBoost model with the parameter grid given in the previous problem and also balance the dataset with SMOTE and check the model performance using precision, recall, F1 score on test set; Compare your result with previous XGboost models ."
      ]
    },
    {
      "cell_type": "code",
      "execution_count": null,
      "id": "e9bbb2ae",
      "metadata": {
        "id": "e9bbb2ae",
        "outputId": "28121a99-d3f2-4cb4-d9fc-84bac05e533a"
      },
      "outputs": [
        {
          "name": "stdout",
          "output_type": "stream",
          "text": [
            "Fitting 5 folds for each of 20 candidates, totalling 100 fits\n"
          ]
        },
        {
          "name": "stderr",
          "output_type": "stream",
          "text": [
            "C:\\Users\\udaya\\anaconda3\\newinstall\\Lib\\site-packages\\xgboost\\core.py:158: UserWarning: [19:49:53] WARNING: C:\\buildkite-agent\\builds\\buildkite-windows-cpu-autoscaling-group-i-0015a694724fa8361-1\\xgboost\\xgboost-ci-windows\\src\\learner.cc:740: \n",
            "Parameters: { \"use_label_encoder\" } are not used.\n",
            "\n",
            "  warnings.warn(smsg, UserWarning)\n"
          ]
        },
        {
          "name": "stdout",
          "output_type": "stream",
          "text": [
            "Best Parameters: {'subsample': 0.6, 'n_estimators': 300, 'min_child_weight': 3, 'max_depth': 10, 'learning_rate': 0.01, 'gamma': 0, 'colsample_bytree': 0.6}\n",
            "Best Model Precision: 0.5527\n",
            "Best Model Recall: 0.7032\n",
            "Best Model F1 Score: 0.6190\n"
          ]
        }
      ],
      "source": [
        "from imblearn.over_sampling import SMOTE\n",
        "from xgboost import XGBClassifier\n",
        "from sklearn.model_selection import RandomizedSearchCV\n",
        "from sklearn.metrics import precision_score, recall_score, f1_score\n",
        "import numpy as np\n",
        "\n",
        "# Step 1: Apply SMOTE to the training data to handle class imbalance\n",
        "smote = SMOTE(random_state=42)\n",
        "X_train_smote, y_train_smote = smote.fit_resample(X_train, y_train)\n",
        "\n",
        "# Step 2: Define the hyperparameter grid for XGBoost\n",
        "param_dist = {\n",
        "    'n_estimators': [50, 100, 200, 300],                 # Number of trees\n",
        "    'learning_rate': [0.01, 0.1, 0.2, 0.3],              # Learning rate\n",
        "    'max_depth': [3, 5, 7, 10],                          # Maximum depth of each tree\n",
        "    'min_child_weight': [1, 3, 5],                       # Minimum sum of instance weight (hessian) needed in a child\n",
        "    'subsample': [0.6, 0.8, 1.0],                        # Subsample ratio of the training instance\n",
        "    'colsample_bytree': [0.2, 0.6, 0.8, 1.0],                 # Subsample ratio of columns when constructing each tree\n",
        "    'gamma': [0, 0.1, 0.3, 0.5]                          # Minimum loss reduction required to make a further partition on a leaf node\n",
        "}\n",
        "\n",
        "# Step 3: Initialize the XGBoost model\n",
        "xgb_model = XGBClassifier(random_state=42, use_label_encoder=False, eval_metric='logloss')\n",
        "\n",
        "# Step 4: Set up RandomizedSearchCV\n",
        "random_search = RandomizedSearchCV(estimator=xgb_model, param_distributions=param_dist,\n",
        "                                   n_iter=20, scoring='f1', cv=5, verbose=1, n_jobs=-1, random_state=42)\n",
        "\n",
        "# Step 5: Fit RandomizedSearchCV on the SMOTEd training data\n",
        "random_search.fit(X_train_smote, y_train_smote)\n",
        "\n",
        "# Step 6: Get the best parameters and best estimator\n",
        "best_params = random_search.best_params_\n",
        "best_xgb_model = random_search.best_estimator_\n",
        "\n",
        "print(f\"Best Parameters: {best_params}\")\n",
        "\n",
        "# Step 7: Make predictions on the test set using the best model\n",
        "y_pred_xgb_best = best_xgb_model.predict(X_test)\n",
        "\n",
        "# Step 8: Calculate Precision, Recall, and F1 Score for the best model\n",
        "precision_xgb_best = precision_score(y_test, y_pred_xgb_best)\n",
        "recall_xgb_best = recall_score(y_test, y_pred_xgb_best)\n",
        "f1_xgb_best = f1_score(y_test, y_pred_xgb_best)\n",
        "\n",
        "# Step 9: Print the evaluation metrics\n",
        "print(f\"Best Model Precision: {precision_xgb_best:.4f}\")\n",
        "print(f\"Best Model Recall: {recall_xgb_best:.4f}\")\n",
        "print(f\"Best Model F1 Score: {f1_xgb_best:.4f}\")\n"
      ]
    },
    {
      "cell_type": "markdown",
      "id": "c246eb4b",
      "metadata": {
        "id": "c246eb4b"
      },
      "source": [
        "#### Interpretation:\n",
        "- Best Model with SMOTE: After applying SMOTE and hyperparameter tuning, the XGBoost model achieved a precision of 55.27%, recall of 70.32%, and an F1-score of 61.90%.\n",
        "\n",
        "- Comparison with Tuned XGBoost without SMOTE: Compared to the previously tuned XGBoost model without SMOTE (precision: 51.18%, recall: 77.88%, F1-score: 61.77%), the model with SMOTE shows slightly improved precision (55.27% vs 51.18%) but a decrease in recall (70.32% vs 77.88%). However, the F1-scores are quite similar, with a slight improvement when using SMOTE.\n",
        "\n",
        "- Conclusion: The default XGBoost model had the best precision but the worst recall. The tuned XGBoost without SMOTE showed the highest recall but lower precision. The tuned XGBoost with SMOTE provided the best balance between precision and recall, achieving the highest F1-score overall. This suggests that SMOTE combined with hyperparameter tuning offers the best trade-off between precision and recall in this scenario"
      ]
    },
    {
      "cell_type": "markdown",
      "id": "1a46e0f2",
      "metadata": {
        "id": "1a46e0f2"
      },
      "source": [
        "### 5.10 Best model selection\n",
        "\n",
        "#####  Evaluate the test set performance of all 9 models and create horizontal bar plots for each individual metric to visualize the results effectively. Based on the plots and your analysis, select the top three models and provide your reasoning for the selection.."
      ]
    },
    {
      "cell_type": "code",
      "execution_count": null,
      "id": "a805162d",
      "metadata": {
        "id": "a805162d",
        "outputId": "190c8835-d846-4137-bcae-b9289e9290e2"
      },
      "outputs": [
        {
          "data": {
            "image/png": "[encoded data removed]",
            "text/plain": [
              "<Figure size 1000x600 with 1 Axes>"
            ]
          },
          "metadata": {},
          "output_type": "display_data"
        },
        {
          "data": {
            "image/png": "[encoded data removed]",
            "text/plain": [
              "<Figure size 1000x600 with 1 Axes>"
            ]
          },
          "metadata": {},
          "output_type": "display_data"
        },
        {
          "data": {
            "image/png": "[encoded data removed]",
            "text/plain": [
              "<Figure size 1000x600 with 1 Axes>"
            ]
          },
          "metadata": {},
          "output_type": "display_data"
        }
      ],
      "source": [
        "import seaborn as sns\n",
        "import matplotlib.pyplot as plt\n",
        "import pandas as pd\n",
        "\n",
        "# Model names and their corresponding metrics (precision, recall, F1 score)\n",
        "model_names = [\n",
        "    \"Default Logistic Regression\", \"Logistic Regression with Optimal Threshold\",\n",
        "    \"KNN (k=5)\", \"KNN (k=5) + SMOTE\", \"Random Forest (10 Trees)\",\n",
        "    \"Tuned Random Forest\", \"Default XGBoost\", \"Tuned XGBoost\",\n",
        "    \"Tuned XGBoost + SMOTE\"\n",
        "]\n",
        "\n",
        "precision_scores = [0.6721, 0.3962, 0.5902, 0.3999, 0.6742, 0.5244, 0.6444, 0.5118, 0.5527]\n",
        "recall_scores = [0.3526, 0.8658, 0.3431, 0.7817, 0.3110, 0.7609, 0.4745, 0.7788, 0.7032]\n",
        "f1_scores = [0.4625, 0.5436, 0.4340, 0.5291, 0.4256, 0.6209, 0.5465, 0.6177, 0.6190]\n",
        "\n",
        "# Creating a DataFrame for easier manipulation\n",
        "df = pd.DataFrame({\n",
        "    'Model': model_names,\n",
        "    'Precision': precision_scores,\n",
        "    'Recall': recall_scores,\n",
        "    'F1-Score': f1_scores\n",
        "})\n",
        "\n",
        "# Sorting the DataFrame for each metric\n",
        "df_precision_sorted = df.sort_values(by='Precision', ascending=False)\n",
        "df_recall_sorted = df.sort_values(by='Recall', ascending=False)\n",
        "df_f1_sorted = df.sort_values(by='F1-Score', ascending=False)\n",
        "\n",
        "# Set style for plots\n",
        "sns.set(style=\"whitegrid\")\n",
        "\n",
        "# Plot for Precision\n",
        "plt.figure(figsize=(10, 6))\n",
        "sns.barplot(x=\"Precision\", y=\"Model\", data=df_precision_sorted, palette=\"Blues_d\")\n",
        "plt.title(\"Models Ordered by Precision\")\n",
        "plt.xlabel(\"Precision Score\")\n",
        "plt.ylabel(\"Model\")\n",
        "plt.show()\n",
        "\n",
        "# Plot for Recall\n",
        "plt.figure(figsize=(10, 6))\n",
        "sns.barplot(x=\"Recall\", y=\"Model\", data=df_recall_sorted, palette=\"Greens_d\")\n",
        "plt.title(\"Models Ordered by Recall\")\n",
        "plt.xlabel(\"Recall Score\")\n",
        "plt.ylabel(\"Model\")\n",
        "plt.show()\n",
        "\n",
        "# Plot for F1-Score\n",
        "plt.figure(figsize=(10, 6))\n",
        "sns.barplot(x=\"F1-Score\", y=\"Model\", data=df_f1_sorted, palette=\"Reds_d\")\n",
        "plt.title(\"Models Ordered by F1-Score\")\n",
        "plt.xlabel(\"F1-Score\")\n",
        "plt.ylabel(\"Model\")\n",
        "plt.show()\n"
      ]
    },
    {
      "cell_type": "markdown",
      "id": "fe864c96",
      "metadata": {
        "id": "fe864c96"
      },
      "source": [
        "### The best model is XGBoost with Hyperparameter Tuning and SMOTE\n",
        "- This model has a strong balance between precision and recall, with good F1-Score performance. The use of SMOTE ensures that the model is better able to handle class imbalance, improving its ability to identify true positives (recall) while still maintaining a relatively high precision. It offers the best trade-off between minimizing false positives and capturing true positives, making it ideal for real-world applications where both metrics are important."
      ]
    },
    {
      "cell_type": "markdown",
      "id": "94f79293",
      "metadata": {
        "id": "94f79293"
      },
      "source": [
        "### The second best model is XGBoost with Hyperparameter tuning\n",
        "- This model has the highest recall of all, meaning it excels at identifying true positives, but it sacrifices precision slightly. While it's excellent for cases where capturing as many positives as possible is the goal, the drop in precision makes it less ideal for situations where false positives are costly.\n",
        "."
      ]
    },
    {
      "cell_type": "markdown",
      "id": "a35da429",
      "metadata": {
        "id": "a35da429"
      },
      "source": [
        "### The third best model is tuned Random forest\n",
        "- The Tuned Random Forest provides good recall and a decent level of precision, making it a well-rounded model. However, the slightly lower precision and F1-Score compared to the XGBoost models make it a solid third-place option.\n"
      ]
    },
    {
      "cell_type": "markdown",
      "id": "e7e1f9d3",
      "metadata": {
        "id": "e7e1f9d3"
      },
      "source": [
        "### <span style=\"color:red\">**Note: Choosing these three models in any order is correct.**</span>"
      ]
    },
    {
      "cell_type": "code",
      "execution_count": null,
      "id": "a29638db",
      "metadata": {
        "id": "a29638db"
      },
      "outputs": [],
      "source": []
    }
  ],
  "metadata": {
    "kernelspec": {
      "display_name": "Python 3 (ipykernel)",
      "language": "python",
      "name": "python3"
    },
    "language_info": {
      "codemirror_mode": {
        "name": "ipython",
        "version": 3
      },
      "file_extension": ".py",
      "mimetype": "text/x-python",
      "name": "python",
      "nbconvert_exporter": "python",
      "pygments_lexer": "ipython3",
      "version": "3.11.5"
    },
    "colab": {
      "provenance": [],
      "include_colab_link": true
    }
  },
  "nbformat": 4,
  "nbformat_minor": 5
}