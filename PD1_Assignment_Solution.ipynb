{
  "nbformat": 4,
  "nbformat_minor": 0,
  "metadata": {
    "colab": {
      "provenance": [],
      "include_colab_link": true
    },
    "kernelspec": {
      "name": "python3",
      "display_name": "Python 3"
    },
    "language_info": {
      "name": "python"
    },
    "gpuClass": "standard"
  },
  "cells": [
    {
      "cell_type": "markdown",
      "metadata": {
        "id": "view-in-github",
        "colab_type": "text"
      },
      "source": [
        "<a href=\"https://colab.research.google.com/github/kareemrb27/Lab2.1/blob/master/PD1_Assignment_Solution.ipynb\" target=\"_parent\"><img src=\"https://colab.research.google.com/assets/colab-badge.svg\" alt=\"Open In Colab\"/></a>"
      ]
    },
    {
      "cell_type": "markdown",
      "source": [
        "### **Problem Q1:**\n",
        "You have an unfair coin with p(H) = p. You toss the coin n times and note the number of heads obtained. What is the probability that the number of heads would be an even number ?"
      ],
      "metadata": {
        "id": "MFpRHEsFL-Gq"
      }
    },
    {
      "cell_type": "markdown",
      "source": [
        "**Explanation:**\n",
        "\n",
        "https://drive.google.com/file/d/1dY-2yUpLiwTEfS8GzvTftlgwXGLAc-q2/view?usp=sharin"
      ],
      "metadata": {
        "id": "wJjlgUE9MCaP"
      }
    },
    {
      "cell_type": "markdown",
      "source": [
        "### **Problem Q2:**\n",
        "You have an unfair coin with p(H) = p. You toss the coin n times and note the number of heads obtained. What is the probability that the number of heads would be an even number ? Can you code the above problem using dynamic programming?"
      ],
      "metadata": {
        "id": "sG9G24r7BZbz"
      }
    },
    {
      "cell_type": "code",
      "source": [
        "def even_heads_probability(p, n):\n",
        "    # Initialize dp matrix with all zeros\n",
        "    dp = [[0 for _ in range(n+1)] for _ in range(n+1)]\n",
        "    dp[0][0] = 1\n",
        "\n",
        "    for i in range(1, n+1):\n",
        "        for j in range(i+1):\n",
        "            if j > 0:\n",
        "                dp[i][j] += p * dp[i-1][j-1]\n",
        "            dp[i][j] += (1-p) * dp[i-1][j]\n",
        "\n",
        "    # Sum up probabilities for even number of heads\n",
        "    return sum(dp[n][i] for i in range(0, n+1, 2))\n",
        "\n",
        "# Test\n",
        "p = 0.3\n",
        "n = 10\n",
        "print(even_heads_probability(p, n))\n"
      ],
      "metadata": {
        "id": "AWvtqxPlhwM7",
        "colab": {
          "base_uri": "https://localhost:8080/"
        },
        "outputId": "8074e97e-f3d2-4a5d-e80c-ca2303b3b442"
      },
      "execution_count": null,
      "outputs": [
        {
          "output_type": "stream",
          "name": "stdout",
          "text": [
            "0.5000524287999998\n"
          ]
        }
      ]
    },
    {
      "cell_type": "markdown",
      "source": [
        "### **Problem Q3:**\n",
        "A game of dice is begun by rolling an ordinary pair of dice. If the sum of the dice is 2, 3, or 12, the player loses. If it is 7 or 11, the player wins. If it is any other number i, the player continues to roll the dice until the sum is either 7 or i. If it is 7, the player loses; if it is i, the player wins. Let R denote the number of rolls of the dice in a game of craps. Find:\n",
        "* E[R]\n",
        "* E[R|player wins]\n",
        "* E[R|player loses]"
      ],
      "metadata": {
        "id": "pQx4PlzCJlKW"
      }
    },
    {
      "cell_type": "markdown",
      "source": [
        "Explanation:\n",
        "\n",
        "This problem involves calculating expected values based on a game of craps. Let's break down the problem step by step.\n",
        "\n",
        "**1. E[R] (Expected Number of Rolls):**\n",
        "\n",
        "First roll possibilities:\n",
        "\n",
        "1. Immediate Win with a 7 or 11: $ P(7) = \\frac{6}{36} = \\frac{1}{6} $ and $ P(11) = \\frac{2}{36} = \\frac{1}{18} $\n",
        "2. Immediate Loss with a 2, 3, or 12:$ P(2) = \\frac{1}{36} $, $ P(3) = \\frac{2}{36} = \\frac{1}{18} $, and $ P(12) = \\frac{1}{36} $\n",
        "3. Otherwise, the game continues.\n",
        "\n",
        "Given that a player rolls an i (which is neither 7, 11, 2, 3, nor 12), the probability to roll a 7 in the next rolls is $ \\frac{6}{36} = \\frac{1}{6} $ and to roll an i again is the probability of rolling that i initially.\n",
        "\n",
        "Now, the expected number of additional rolls, given that an i has been rolled, is:\n",
        "\n",
        "$ E_{i} = \\frac{1}{6} + \\frac{1}{6} \\times (1 + E_{i}) + P(i) \\times (1 + E_{i}) $\n",
        "\n",
        "This equation comes from the fact that with probability $ \\frac{1}{6} $, the next roll is a 7. With probability $ \\frac{1}{6} $, the next roll is not a 7 or an i, and we are in the same situation again (thus the term $ \\frac{1}{6} \\times (1 + E_{i} $. With probability $ P(i) $, the next roll is i and we win (thus the term $ P(i) \\times (1 + E_{i}) $).\n",
        "\n",
        "To solve the equation:\n",
        "\n",
        "$ E_{i} = \\frac{1}{6} \\times \\frac{1}{1 - \\frac{1}{6} - P(i)}$\n",
        "\n",
        "Using this, we can compute the expected number of rolls to be:\n",
        "\n",
        "$ E[R] = 1 + \\frac{1}{6} \\times \\sum_{i \\neq 2,3,7,11,12} P(i) \\times E_{i} $\n",
        "\n",
        "**2. E[R|player wins] (Expected Number of Rolls Given Player Wins):**\n",
        "\n",
        "This is the expected number of rolls given the conditions under which a player wins. We can compute this by considering the rolls where the player wins directly and the rolls where they get another number i and then get i again before a 7.\n",
        "\n",
        "**3. E[R|player loses] (Expected Number of Rolls Given Player Loses):**\n",
        "\n",
        "Similar to the above, this is the expected number of rolls given the conditions under which a player loses.\n",
        "\n",
        "Let's calculate these expected values using a simulation, as the calculations are intricate and involve multiple scenarios."
      ],
      "metadata": {
        "id": "VS4YT5l0JqFE"
      }
    },
    {
      "cell_type": "code",
      "source": [
        "import numpy as np\n",
        "\n",
        "def craps_simulation(num_trials=100000):\n",
        "    total_rolls = 0\n",
        "    win_rolls = 0\n",
        "    lose_rolls = 0\n",
        "    wins = 0\n",
        "    losses = 0\n",
        "\n",
        "    for _ in range(num_trials):\n",
        "        rolls = 1\n",
        "        dice_sum = sum(np.random.randint(1, 7, 2))\n",
        "        # Check for immediate win or loss\n",
        "        if dice_sum in {7, 11}:\n",
        "            wins += 1\n",
        "            win_rolls += rolls\n",
        "            total_rolls += rolls\n",
        "            continue\n",
        "        elif dice_sum in {2, 3, 12}:\n",
        "            losses += 1\n",
        "            lose_rolls += rolls\n",
        "            total_rolls += rolls\n",
        "            continue\n",
        "\n",
        "        # If neither immediate win nor loss, play until win or loss\n",
        "        while True:\n",
        "            rolls += 1\n",
        "            new_sum = sum(np.random.randint(1, 7, 2))\n",
        "            if new_sum == dice_sum:\n",
        "                wins += 1\n",
        "                win_rolls += rolls\n",
        "                break\n",
        "            elif new_sum == 7:\n",
        "                losses += 1\n",
        "                lose_rolls += rolls\n",
        "                break\n",
        "        total_rolls += rolls\n",
        "\n",
        "    return total_rolls/num_trials, win_rolls/wins, lose_rolls/losses\n",
        "\n",
        "E_R, E_R_win, E_R_lose = craps_simulation()\n",
        "print(\"E[R]:\", E_R)\n",
        "print(\"E[R|player wins]:\", E_R_win)\n",
        "print(\"E[R|player loses]:\", E_R_lose)\n"
      ],
      "metadata": {
        "colab": {
          "base_uri": "https://localhost:8080/"
        },
        "id": "6sWJquvZKc5S",
        "outputId": "8b893fd1-a45f-4912-a88d-ac6b02ec85ac"
      },
      "execution_count": null,
      "outputs": [
        {
          "output_type": "stream",
          "name": "stdout",
          "text": [
            "E[R]: 3.35752\n",
            "E[R|player wins]: 2.9093755082127175\n",
            "E[R|player loses]: 3.791410801448591\n"
          ]
        }
      ]
    },
    {
      "cell_type": "markdown",
      "source": [
        "**Analysis:**\n",
        "Based on the simulation results:\n",
        "\n",
        "1. $E[R]$: The expected number of rolls in a game of craps is approximately 3.36. This means that on average, a game of craps lasts for about 3 to 4 rolls.\n",
        "\n",
        "2. $E[R| \\text{player wins}]$: Given that the player wins, the expected number of rolls is approximately 2.91. This suggests that games which result in a win tend to be slightly shorter on average.\n",
        "\n",
        "3. $E[R| \\text{player loses}]$: Given that the player loses, the expected number of rolls is approximately 3.79. This indicates that games resulting in a loss tend to be a bit longer on average compared to games where the player wins.\n",
        "\n",
        "The results are intuitive. Immediate wins (or losses) can occur on the first roll based on the initial conditions, but if neither occurs, the game continues until a win or loss condition is satisfied. Winning conditions after the first roll require matching a previous roll, while losing always involves rolling a 7. Since there are more ways to roll a 7 than any other number with two dice, losses might tend to take a few more rolls on average. The simulation results reflect this understanding."
      ],
      "metadata": {
        "id": "7bgYUI8GLGb-"
      }
    },
    {
      "cell_type": "markdown",
      "source": [
        "### **Problem Q4:**\n",
        "Generate 2 normal random variables, $X~N(1,9) & Y~N(9,16)$ in Python. Then add X and Y to get Z. What is the distribution of Z? What does Z look like after plotting? Does the plot support theory?"
      ],
      "metadata": {
        "id": "8vgfFoUgC58S"
      }
    },
    {
      "cell_type": "markdown",
      "source": [
        "**Explanation:**\n",
        "\n",
        "If $X \\sim N(\\mu_X, \\sigma_X^2)$ and $Y \\sim N(\\mu_Y, \\sigma_Y^2)$, and both X and Y are independent, then the sum $Z = X + Y$ is normally distributed as:\n",
        "\n",
        "$ Z \\sim N(\\mu_X + \\mu_Y, \\sigma_X^2 + \\sigma_Y^2) $\n",
        "\n",
        "Given that $X \\sim N(1,9)$ and $Y \\sim N(9,16)$, we can determine:\n",
        "\n",
        "$ Z \\sim N(1 + 9, 9 + 16) $\n",
        "$ \\implies Z \\sim N(10, 25) $\n",
        "\n",
        "So, the random variable $Z$ will be distributed as $N(10,25)$.\n",
        "\n",
        "Let's generate and visualize the data for a better understanding:"
      ],
      "metadata": {
        "id": "te-gESgZCHL-"
      }
    },
    {
      "cell_type": "code",
      "source": [
        "import numpy as np\n",
        "import matplotlib.pyplot as plt\n",
        "\n",
        "# Number of samples\n",
        "num_samples = 10000\n",
        "\n",
        "# Generate X and Y\n",
        "X = np.random.normal(1, 3, num_samples)  # sqrt(9) = 3\n",
        "Y = np.random.normal(9, 4, num_samples)  # sqrt(16) = 4\n",
        "\n",
        "# Compute Z\n",
        "Z = X + Y\n",
        "\n",
        "# Plotting the distribution of Z\n",
        "plt.hist(Z, bins=50, density=True, alpha=0.7, color='blue')\n",
        "plt.title('Distribution of Z = X + Y')\n",
        "plt.xlabel('Value')\n",
        "plt.ylabel('Density')\n",
        "plt.grid(True)\n",
        "plt.show()\n"
      ],
      "metadata": {
        "colab": {
          "base_uri": "https://localhost:8080/",
          "height": 472
        },
        "id": "s8W1NCZbCMUP",
        "outputId": "7868eeb5-6933-477f-d024-00de468e533b"
      },
      "execution_count": null,
      "outputs": [
        {
          "output_type": "display_data",
          "data": {
            "text/plain": [
              "<Figure size 640x480 with 1 Axes>"
            ],
            "image/png": "[encoded data removed]"
          },
          "metadata": {}
        }
      ]
    },
    {
      "cell_type": "code",
      "source": [
        "np.std(Z), np.var(Z)"
      ],
      "metadata": {
        "colab": {
          "base_uri": "https://localhost:8080/"
        },
        "id": "zxXuYi8DHvPR",
        "outputId": "5b90515e-5c3d-4dc6-8995-79721e1819d1"
      },
      "execution_count": null,
      "outputs": [
        {
          "output_type": "execute_result",
          "data": {
            "text/plain": [
              "(4.994265139336823, 24.942684281995064)"
            ]
          },
          "metadata": {},
          "execution_count": 9
        }
      ]
    },
    {
      "cell_type": "markdown",
      "source": [
        "**Analysis:**\n",
        "The histogram of Z should show a bell-shaped curve centered around 10, resembling a normal distribution. This result is consistent with the theory that the sum of two independent normal random variables is also normally distributed."
      ],
      "metadata": {
        "id": "M2PtGwQGDFq0"
      }
    },
    {
      "cell_type": "markdown",
      "source": [
        "### **Problem Q5:**\n",
        "Mark was first to arrive at a 100 seat theater. He forgot his seat number and picked a random seat for himself. After this, every single person who gets to the theater sits on his/her seat if it is available, and chooses any available seat at random. John was last to enter the theater and 99 seats were occupied. What's the probability that John gets to sit in his own seat? Can we write a simulation to verify the result?"
      ],
      "metadata": {
        "id": "tSpe1Nl2G79S"
      }
    },
    {
      "cell_type": "markdown",
      "source": [
        "**Explanation:**\n",
        "\n",
        "1. At the moment John enters the theater, only two possible seats are unoccupied: Mark's original seat and John's seat.\n",
        "\n",
        "2. Since every person who entered before John either sat in their assigned seat or chose randomly from available seats, no preference was given to either Mark's seat or John's seat.\n",
        "\n",
        "3. Thus, the probability that either of those seats is still available is the same. Given that there are only these two seats left, the probability that John's seat is available (and thus that he sits in his own seat) is $ \\frac{1}{2} $.\n",
        "\n",
        "\n",
        "To verify the result, we can run a simulation:"
      ],
      "metadata": {
        "id": "5pd7RKRCDgZB"
      }
    },
    {
      "cell_type": "code",
      "source": [
        "\"\"\"\n",
        "Problem 5\n",
        "You could assume there is no order required for arriving.\n",
        "The only thing given is that Mark comes first and John comes last\n",
        "\n",
        "Monte Carlo\n",
        "\"\"\"\n",
        "\n",
        "\n",
        "import random\n",
        "\n",
        "def simulation(total_seats, niter):\n",
        "    count = 0\n",
        "  # assume John's seat number is 99\n",
        "    for i in range(niter):\n",
        "\n",
        "      seats = [False] * total_seats  # initially all seats are empty\n",
        "      first_person_seat = random.randint(0, total_seats - 1)  # Mark chooses a random seat\n",
        "      seats[first_person_seat] = True  # Mark occupies the seat he picked\n",
        "\n",
        "      for i in range(1, total_seats - 1):\n",
        "        # Everyone except last person comes\n",
        "          if not seats[i]:\n",
        "              # assume the person's number is also equal to his ticket number\n",
        "              seats[i] = True\n",
        "          else:\n",
        "\n",
        "              # next person chooses a random unoccupied seat as the original seat is occupied\n",
        "              unoccupied_seats = [j for j in range(total_seats) if not seats[j]]\n",
        "              chosen_seat = random.choice(unoccupied_seats)\n",
        "              seats[chosen_seat] = True\n",
        "      # Check at the very end if last person's seat is unoccupied\n",
        "      # John's seat is unoccupied so he can occupy 1 last seat :)\n",
        "      if not seats[total_seats - 1]:\n",
        "          count += 1\n",
        "    return count / niter\n",
        "\n",
        "simulation(total_seats=100, niter=1000000)"
      ],
      "metadata": {
        "colab": {
          "base_uri": "https://localhost:8080/"
        },
        "id": "X8l5_PPOFIbL",
        "outputId": "56050e12-81d7-43dd-c606-697dd787e692"
      },
      "execution_count": null,
      "outputs": [
        {
          "output_type": "execute_result",
          "data": {
            "text/plain": [
              "0.499751"
            ]
          },
          "metadata": {},
          "execution_count": 8
        }
      ]
    }
  ]
}